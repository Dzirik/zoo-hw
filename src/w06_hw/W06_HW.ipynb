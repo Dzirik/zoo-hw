{
 "cells": [
  {
   "cell_type": "markdown",
   "id": "59eb4a56",
   "metadata": {},
   "source": [
    "# Zoomcamp MLOps Course Cohort 2024 Week 05 Homework\n",
    "*Version:* `1.2` *(Jupytext, time measurements, logger, param notebook execution, fixes)*"
   ]
  },
  {
   "cell_type": "markdown",
   "id": "6af9aadf",
   "metadata": {},
   "source": [
    "<a name=\"ToC\"></a>\n",
    "# Table of Content\n",
    "\n",
    "- [Notebook Description](#0)\n",
    "- [General Settings](#1)\n",
    "    - [Paths](#1-1)\n",
    "    - [Notebook Functionality and Appearance](#1-2)\n",
    "    - [External Libraries](#1-3)\n",
    "    - [Internal Code](#1-4)\n",
    "    - [Constants](#1-5)   \n",
    "- [Analysis](#2)   \n",
    "    - [Data Reading](#2-1)   \n",
    "    - [Questions](#2-2)\n",
    "        - [Q1 Refactoring](#2-2-1)     \n",
    "        - [Q2 Installing pytest](#2-2-2)\n",
    "        - [Q3 Writing first unit test](#2-2-3)\n",
    "        - [Q4 Mocking S3 with Localstack](#2-2-4)    \n",
    "        - [Q5 Creating test data](#2-2-5)\n",
    "        - [Q6 Finish the integration test](#2-2-6)\n",
    "- [Final Timestamp](#3)  "
   ]
  },
  {
   "cell_type": "markdown",
   "id": "2e01f76c",
   "metadata": {},
   "source": [
    "<a name=\"0\"></a>\n",
    "# Notebook Description\n",
    "[ToC](#ToC) "
   ]
  },
  {
   "cell_type": "markdown",
   "id": "b8eb5432",
   "metadata": {},
   "source": [
    "> *Please put your comments about the notebook functionality here.*  "
   ]
  },
  {
   "cell_type": "markdown",
   "id": "65b83422",
   "metadata": {},
   "source": [
    "<a name=\"1\"></a>\n",
    "# GENERAL SETTINGS\n",
    "[ToC](#ToC)  \n",
    "General settings for the notebook (paths, python libraries, own code, notebook constants). \n",
    "\n",
    "> *NOTE: All imports and constants for the notebook settings shoud be here. Nothing should be imported in the analysis section.*"
   ]
  },
  {
   "cell_type": "markdown",
   "id": "f1ccdd19",
   "metadata": {},
   "source": [
    "<a name=\"1-1\"></a>\n",
    "### Paths\n",
    "[ToC](#ToC)  \n",
    "\n",
    "Adding paths that are necessary to import code from within the repository."
   ]
  },
  {
   "cell_type": "code",
   "execution_count": 1,
   "id": "73041f76",
   "metadata": {},
   "outputs": [],
   "source": [
    "import sys\n",
    "import os\n",
    "sys.path+=[os.path.join(os.getcwd(), \"..\"), os.path.join(os.getcwd(), \"../..\")] # one and two up"
   ]
  },
  {
   "cell_type": "markdown",
   "id": "1688c976",
   "metadata": {},
   "source": [
    "<a name=\"1-2\"></a>\n",
    "### Notebook Functionality and Appearance\n",
    "[ToC](#ToC)  \n",
    "Necessary libraries for notebook functionality:\n",
    "- A button for hiding/showing the code. By default it is deactivated and can be activated by setting CREATE_BUTTON constant to True. \n",
    "> **NOTE: This way, using the function, the button works only in active notebook. If the functionality needs to be preserved in html export, then the code has to be incluced directly into notebook.**\n",
    "- Set notebook width to 100%.\n",
    "- Notebook data frame setting for better visibility.\n",
    "- Initial timestamp setting and logging the start of the execution."
   ]
  },
  {
   "cell_type": "markdown",
   "id": "7d63c1ba",
   "metadata": {},
   "source": [
    "#### Overall Setting Specification"
   ]
  },
  {
   "cell_type": "code",
   "execution_count": 2,
   "id": "e5ac5439",
   "metadata": {},
   "outputs": [],
   "source": [
    "LOGGER_CONFIG_NAME = \"logger_file_limit_console\"\n",
    "ADDAPT_WIDTH = False"
   ]
  },
  {
   "cell_type": "markdown",
   "id": "c0c3862c",
   "metadata": {},
   "source": [
    "#### Overall Behaviour Setting"
   ]
  },
  {
   "cell_type": "code",
   "execution_count": 3,
   "id": "b7256dee",
   "metadata": {},
   "outputs": [],
   "source": [
    "try:\n",
    "    from src.utils.notebook_support_functions import create_button, get_notebook_name\n",
    "    NOTEBOOK_NAME = get_notebook_name()\n",
    "    SUPPORT_FUNCTIONS_READ = True\n",
    "except:\n",
    "    NOTEBOOK_NAME = \"NO_NAME\"\n",
    "    SUPPORT_FUNCTIONS_READ = False  "
   ]
  },
  {
   "cell_type": "code",
   "execution_count": 4,
   "id": "e78bbd88",
   "metadata": {},
   "outputs": [],
   "source": [
    "from src.utils.logger import Logger\n",
    "from src.utils.envs import Envs\n",
    "from src.utils.config import Config\n",
    "from pandas import options\n",
    "from IPython.display import display, HTML"
   ]
  },
  {
   "cell_type": "code",
   "execution_count": 5,
   "id": "af52647f",
   "metadata": {},
   "outputs": [
    {
     "name": "stdout",
     "output_type": "stream",
     "text": [
      "2024-06-21 13:41:47,871 - file_limit_console - INFO - Logger was created on WS-3000 in branche 005_do_week_05_hw.\n",
      "2024-06-21 13:41:47,872 - file_limit_console - INFO - Process: NOTEBOOK; Notebook name: W05_HW.ipynb; Timer started;\n"
     ]
    }
   ],
   "source": [
    "options.display.max_rows = 500\n",
    "options.display.max_columns = 500\n",
    "envs = Envs()\n",
    "envs.set_logger(LOGGER_CONFIG_NAME)\n",
    "Logger().start_timer(f\"NOTEBOOK; Notebook name: {NOTEBOOK_NAME}\")\n",
    "if ADDAPT_WIDTH:\n",
    "    display(HTML(\"<style>.container { width:100% !important; }</style>\")) # notebook width"
   ]
  },
  {
   "cell_type": "code",
   "execution_count": 6,
   "id": "3d86b0eb",
   "metadata": {},
   "outputs": [],
   "source": [
    "# create_button()"
   ]
  },
  {
   "cell_type": "markdown",
   "id": "02907731",
   "metadata": {},
   "source": [
    "<a name=\"1-3\"></a>\n",
    "### External Libraries\n",
    "[ToC](#ToC)  "
   ]
  },
  {
   "cell_type": "code",
   "execution_count": 7,
   "id": "cb1cd798",
   "metadata": {},
   "outputs": [],
   "source": [
    "from datetime import datetime\n",
    "\n",
    "from datetime import datetime\n",
    "\n",
    "from os.path import join\n",
    "\n",
    "import pandas as pd\n",
    "\n",
    "import pickle\n",
    "\n",
    "import seaborn as sns\n",
    "import matplotlib.pyplot as plt\n",
    "\n",
    "from sklearn.linear_model import LinearRegression\n",
    "from sklearn.metrics import mean_absolute_error, mean_absolute_percentage_error\n",
    "\n",
    "from sklearn.metrics import mean_squared_error\n",
    "\n",
    "from IPython.display import display, HTML\n",
    "\n",
    "from evidently import ColumnMapping\n",
    "from evidently.report import Report\n",
    "from evidently.metrics import ColumnDriftMetric, DatasetDriftMetric, DatasetMissingValuesMetric, ColumnQuantileMetric, DatasetSummaryMetric"
   ]
  },
  {
   "cell_type": "markdown",
   "id": "7d484c8e",
   "metadata": {},
   "source": [
    "<a name=\"1-4\"></a>\n",
    "### Internal Code\n",
    "[ToC](#ToC)  \n",
    "Code, libraries, classes, functions from within the repository."
   ]
  },
  {
   "cell_type": "code",
   "execution_count": 8,
   "id": "37454282",
   "metadata": {},
   "outputs": [],
   "source": [
    "from src.utils.date_time_functions import create_datetime_id"
   ]
  },
  {
   "cell_type": "markdown",
   "id": "8c7bc4d7",
   "metadata": {},
   "source": [
    "<a name=\"1-5\"></a>\n",
    "### Constants\n",
    "[ToC](#ToC)  \n",
    "Constants for the notebook.\n",
    "\n",
    "> *NOTE: Please use all letters upper.*"
   ]
  },
  {
   "cell_type": "markdown",
   "id": "60329ad0",
   "metadata": {},
   "source": [
    "#### General Constants\n",
    "[ToC](#ToC)  "
   ]
  },
  {
   "cell_type": "code",
   "execution_count": 9,
   "id": "c1e4d75d",
   "metadata": {},
   "outputs": [],
   "source": [
    "# from src.global_constants import *  # Remember to import only the constants in use\n",
    "N_ROWS_TO_DISPLAY = 2\n",
    "FIGURE_SIZE_SETTING = {\"autosize\": False, \"width\": 2200, \"height\": 750}\n",
    "DATA_PROCESSING_CONFIG_NAME = \"data_processing_basic\""
   ]
  },
  {
   "cell_type": "markdown",
   "id": "3b6fe8e9",
   "metadata": {},
   "source": [
    "#### Constants for Setting Automatic Run\n",
    "[ToC](#ToC)  "
   ]
  },
  {
   "cell_type": "code",
   "execution_count": 10,
   "id": "b1dcdaba",
   "metadata": {
    "tags": [
     "parameters"
    ]
   },
   "outputs": [],
   "source": [
    "# MANDATORY FOR CONFIG DEFINITION AND NOTEBOOK AND ITS OUTPUTS IDENTIFICATION #########################################\n",
    "PYTHON_CONFIG_NAME = \"python_local\"\n",
    "ID = create_datetime_id(now=datetime.now(), add_micro=False)\n",
    "# (END) MANDATORY FOR CONFIG DEFINITION AND NOTEBOOK AND ITS OUTPUTS IDENTIFICATION ###################################"
   ]
  },
  {
   "cell_type": "markdown",
   "id": "c4fe5773",
   "metadata": {},
   "source": [
    "#### Python Config Initialisation\n",
    "[ToC](#ToC)  "
   ]
  },
  {
   "cell_type": "code",
   "execution_count": 11,
   "id": "24433642",
   "metadata": {},
   "outputs": [],
   "source": [
    "envs.set_config(PYTHON_CONFIG_NAME)"
   ]
  },
  {
   "cell_type": "markdown",
   "id": "cb41180b",
   "metadata": {},
   "source": [
    "#### Notebook Specific Constants\n",
    "[ToC](#ToC)  "
   ]
  },
  {
   "cell_type": "code",
   "execution_count": null,
   "id": "c4d3db01",
   "metadata": {},
   "outputs": [],
   "source": []
  },
  {
   "cell_type": "markdown",
   "id": "78e110ee",
   "metadata": {},
   "source": [
    "<a name=\"2\"></a>\n",
    "# ANALYSIS\n",
    "[ToC](#ToC)  "
   ]
  },
  {
   "cell_type": "markdown",
   "id": "0e06dfa1",
   "metadata": {
    "lines_to_next_cell": 2
   },
   "source": [
    "<a name=\"2-1\"></a>\n",
    "## Chapter\n",
    "[ToC](#ToC)  "
   ]
  },
  {
   "cell_type": "markdown",
   "id": "b60a07ea",
   "metadata": {
    "lines_to_next_cell": 2
   },
   "source": [
    "<a name=\"2-1\"></a>\n",
    "## Data Reading\n",
    "[ToC](#ToC)  "
   ]
  },
  {
   "cell_type": "markdown",
   "id": "72e24e29",
   "metadata": {},
   "source": [
    "<a name=\"2-2\"></a>\n",
    "## Questions\n",
    "[ToC](#ToC)  "
   ]
  },
  {
   "cell_type": "markdown",
   "id": "91cfde42",
   "metadata": {},
   "source": [
    "<a name=\"2-2-1\"></a>\n",
    "### Q1 Refactoring\n",
    "[ToC](#ToC)  \n",
    "\n",
    "Before we can start covering our code with tests, we need to refactor it. We'll start by getting rid of all the global variables.\n",
    "\n",
    "Let's create a function main with two parameters: year and month.\n",
    "Move all the code (except read_data) inside main\n",
    "Make categorical a parameter for read_data and pass it inside main\n",
    "Now we need to create the \"main\" block from which we'll invoke the main function. How does the if statement that we use for this looks like?\n",
    "\n",
    "Hint: after refactoring, check that the code still works. Just run it e.g. for March 2023 and see if it finishes successfully.\n",
    "\n",
    "To make it easier to run it, you can write results to your local filesystem. E.g. here:\n",
    "\n",
    "~~~\n",
    "output_file = f'taxi_type=yellow_year={year:04d}_month={month:02d}.parquet'\n",
    "~~~"
   ]
  },
  {
   "cell_type": "code",
   "execution_count": 18,
   "id": "787ee9b8",
   "metadata": {},
   "outputs": [
    {
     "data": {
      "text/html": [
       "<p style='font-weight:bold; background-color:black; color:white; font-size:20px; padding:10px;'>Answer: I chose DatasetSummaryMetric meetric.</p>"
      ],
      "text/plain": [
       "<IPython.core.display.HTML object>"
      ]
     },
     "metadata": {},
     "output_type": "display_data"
    }
   ],
   "source": [
    "answer = \"I chose DatasetSummaryMetric meetric.\"\n",
    "display(HTML(f\"<p style='font-weight:bold; background-color:black; color:white; font-size:20px; padding:10px;'>Answer: {answer}</p>\"))"
   ]
  },
  {
   "cell_type": "markdown",
   "id": "3addd7ff",
   "metadata": {},
   "source": [
    "<a name=\"2-2-2\"></a>\n",
    "### Q2 Installing pytest\n",
    "[ToC](#ToC)  \n",
    "\n",
    "Now we need to install pytest:\n",
    "~~~\n",
    "pipenv install --dev pytest\n",
    "~~~\n",
    "Next, create a folder tests and create two files. One will be the file with tests. We can name it test_batch.py.\n",
    "\n",
    "What should be the other file?\n",
    "\n",
    "Hint: to be able to test batch.py, we need to be able to import it. Without this other file, we won't be able to do it."
   ]
  },
  {
   "cell_type": "markdown",
   "id": "e10a87bf",
   "metadata": {},
   "source": [
    "<a name=\"2-2-3\"></a>\n",
    "### Q3 Writing first unit test\n",
    "[ToC](#ToC)  \n",
    "\n",
    "Now let's cover our code with unit tests.\n",
    "\n",
    "We'll start with the pre-processing logic inside read_data.\n",
    "\n",
    "It's difficult to test right now because first reads the file and then performs some transformations. We need to split this code into two parts: reading (I/O) and transformation.\n",
    "\n",
    "So let's create a function prepare_data that takes in a dataframe (and some other parameters too) and applies some transformation to it.\n",
    "\n",
    "(That's basically the entire read_data function after reading the parquet file)\n",
    "\n",
    "Now create a test and use this as input:\n",
    "~~~\n",
    "data = [\n",
    "    (None, None, dt(1, 1), dt(1, 10)),\n",
    "    (1, 1, dt(1, 2), dt(1, 10)),\n",
    "    (1, None, dt(1, 2, 0), dt(1, 2, 59)),\n",
    "    (3, 4, dt(1, 2, 0), dt(2, 2, 1)),      \n",
    "]\n",
    "\n",
    "columns = ['PULocationID', 'DOLocationID', 'tpep_pickup_datetime', 'tpep_dropoff_datetime']\n",
    "df = pd.DataFrame(data, columns=columns)\n",
    "~~~\n",
    "Where dt is a helper function:\n",
    "~~~\n",
    "from datetime import datetime\n",
    "\n",
    "def dt(hour, minute, second=0):\n",
    "    return datetime(2023, 1, 1, hour, minute, second)\n",
    "~~~\n",
    "Define the expected output and use the assert to make sure that the actual dataframe matches the expected one.\n",
    "\n",
    "Tip: When you compare two Pandas DataFrames, the result is also a DataFrame. The same is true for Pandas Series. Also, a DataFrame could be turned into a list of dictionaries.\n",
    "\n",
    "How many rows should be there in the expected dataframe?\n",
    "\n",
    "1    \n",
    "2    \n",
    "3  \n",
    "4  "
   ]
  },
  {
   "cell_type": "code",
   "execution_count": 29,
   "id": "9220d36e",
   "metadata": {},
   "outputs": [
    {
     "data": {
      "text/html": [
       "<p style='font-weight:bold; background-color:black; color:white; font-size:20px; padding:10px;'>Answer: Maximum value of daily quantile is: 14.2</p>"
      ],
      "text/plain": [
       "<IPython.core.display.HTML object>"
      ]
     },
     "metadata": {},
     "output_type": "display_data"
    }
   ],
   "source": [
    "answer = f\"Maximum value of daily quantile is: {max(quantile_results)}\"\n",
    "display(HTML(f\"<p style='font-weight:bold; background-color:black; color:white; font-size:20px; padding:10px;'>Answer: {answer}</p>\"))"
   ]
  },
  {
   "cell_type": "markdown",
   "id": "f2181b53",
   "metadata": {},
   "source": [
    "<a name=\"2-2-4\"></a>\n",
    "### Q4 Mocking S3 with Localstack\n",
    "[ToC](#ToC)  \n",
    "\n",
    "Now let's prepare for an integration test. In our script, we write data to S3. So we'll use Localstack to mimic S3.\n",
    "\n",
    "First, let's run Localstack with Docker compose. Let's create a docker-compose.yaml file with just one service: localstack. Inside localstack, we're only interested in running S3.\n",
    "\n",
    "Start the service and test it by creating a bucket where we'll keep the output. Let's call it \"nyc-duration\".\n",
    "\n",
    "With AWS CLI, this is how we create a bucket:\n",
    "\n",
    "aws s3 mb s3://nyc-duration\n",
    "Then we need to check that the bucket was successfully created. With AWS, this is how we typically do it:\n",
    "\n",
    "aws s3 ls\n",
    "In both cases we should adjust commands for localstack. What option do we need to use for such purposes?\n",
    "\n",
    "--backend-store-uri  \n",
    "--profile  \n",
    "--endpoint-url  \n",
    "--version  "
   ]
  },
  {
   "cell_type": "code",
   "execution_count": 35,
   "id": "8db7991f",
   "metadata": {},
   "outputs": [
    {
     "data": {
      "text/html": [
       "<p style='font-weight:bold; background-color:black; color:white; font-size:20px; padding:10px;'>Answer: The config file should be placed in project_folder/config</p>"
      ],
      "text/plain": [
       "<IPython.core.display.HTML object>"
      ]
     },
     "metadata": {},
     "output_type": "display_data"
    }
   ],
   "source": [
    "answer = \"The config file should be placed in project_folder/config\"\n",
    "display(HTML(f\"<p style='font-weight:bold; background-color:black; color:white; font-size:20px; padding:10px;'>Answer: {answer}</p>\"))"
   ]
  },
  {
   "cell_type": "markdown",
   "id": "af1c6a3b",
   "metadata": {},
   "source": [
    "<a name=\"2-2-5\"></a>\n",
    "### Q5  Creating test data\n",
    "[ToC](#ToC)  \n",
    "\n",
    "Now let's create integration_test.py\n",
    "\n",
    "We'll use the dataframe we created in Q3 (the dataframe for the unit test) and save it to S3. You don't need to do anything else: just create a dataframe and save it.\n",
    "\n",
    "We will pretend that this is data for January 2023.\n",
    "\n",
    "Run the integration_test.py script. After that, use AWS CLI to verify that the file was created.\n",
    "\n",
    "Use this snipped for saving the file:\n",
    "\n",
    "df_input.to_parquet(\n",
    "    input_file,\n",
    "    engine='pyarrow',\n",
    "    compression=None,\n",
    "    index=False,\n",
    "    storage_options=options\n",
    ")\n",
    "What's the size of the file?\n",
    "\n",
    "3620  \n",
    "23620  \n",
    "43620  \n",
    "63620  \n",
    "Note: it's important to use the code from the snippet for saving the file. Otherwise the size may be different depending on the OS, engine and compression. Even if you use this exact snippet, the size of your dataframe may still be a bit off. Just select the closest option."
   ]
  },
  {
   "cell_type": "markdown",
   "id": "30778718",
   "metadata": {},
   "source": [
    "<a name=\"2-2-6\"></a>\n",
    "### Q6 Finish the integration test\n",
    "[ToC](#ToC)  \n",
    "\n",
    "We can read from our localstack s3, but we also need to write to it.\n",
    "\n",
    "Create a function save_data which works similarly to read_data, but we use it for saving a dataframe.\n",
    "\n",
    "Let's run the batch.py script for January 2023 (the fake data we created in Q5).\n",
    "\n",
    "We can do that from our integration test in Python: we can use os.system for doing that (there are other options too).\n",
    "\n",
    "Now it saves the result to localstack.\n",
    "\n",
    "The only thing we need to do now is to read this data and verify the result is correct.\n",
    "\n",
    "What's the sum of predicted durations for the test dataframe?\n",
    "\n",
    "13.08  \n",
    "36.28  \n",
    "69.28  \n",
    "81.08  "
   ]
  },
  {
   "cell_type": "markdown",
   "id": "ce459812",
   "metadata": {},
   "source": [
    "<a name=\"3\"></a>\n",
    "# Final Timestamp\n",
    "[ToC](#ToC)  "
   ]
  },
  {
   "cell_type": "code",
   "execution_count": 36,
   "id": "04847bf4",
   "metadata": {},
   "outputs": [
    {
     "name": "stdout",
     "output_type": "stream",
     "text": [
      "2024-06-21 13:41:52,006 - file_limit_console - INFO - Process: NOTEBOOK; Notebook name: W05_HW.ipynb; Timer ended; Process Duration [s]: 4.13; Process Duration [m]: 0.07\n"
     ]
    }
   ],
   "source": [
    "Logger().end_timer()"
   ]
  }
 ],
 "metadata": {
  "celltoolbar": "Tags",
  "jupytext": {
   "formats": "ipynb,py:light"
  },
  "kernelspec": {
   "display_name": "Python 3 (ipykernel)",
   "language": "python",
   "name": "python3"
  },
  "language_info": {
   "codemirror_mode": {
    "name": "ipython",
    "version": 3
   },
   "file_extension": ".py",
   "mimetype": "text/x-python",
   "name": "python",
   "nbconvert_exporter": "python",
   "pygments_lexer": "ipython3",
   "version": "3.9.7"
  }
 },
 "nbformat": 4,
 "nbformat_minor": 5
}
