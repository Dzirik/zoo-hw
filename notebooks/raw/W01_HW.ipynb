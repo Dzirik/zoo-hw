{
 "cells": [
  {
   "cell_type": "markdown",
   "id": "c02af3c4",
   "metadata": {},
   "source": [
    "## Week 01 Homework\n",
    "\n",
    "[tasks](https://github.com/DataTalksClub/mlops-zoomcamp/blob/main/cohorts/2024/01-intro/homework.md)"
   ]
  },
  {
   "cell_type": "code",
   "execution_count": null,
   "id": "75801247",
   "metadata": {},
   "outputs": [],
   "source": []
  }
 ],
 "metadata": {
  "kernelspec": {
   "display_name": "Python 3 (ipykernel)",
   "language": "python",
   "name": "python3"
  },
  "language_info": {
   "codemirror_mode": {
    "name": "ipython",
    "version": 3
   },
   "file_extension": ".py",
   "mimetype": "text/x-python",
   "name": "python",
   "nbconvert_exporter": "python",
   "pygments_lexer": "ipython3",
   "version": "3.9.7"
  }
 },
 "nbformat": 4,
 "nbformat_minor": 5
}
