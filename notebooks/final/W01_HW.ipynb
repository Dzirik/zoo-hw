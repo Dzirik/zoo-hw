{
 "cells": [
  {
   "cell_type": "markdown",
   "id": "59eb4a56",
   "metadata": {},
   "source": [
    "# Zoomcamp MLOps Course Cohort 2024 Week 01 Homework\n",
    "*Version:* `1.2` *(Jupytext, time measurements, logger, param notebook execution, fixes)*"
   ]
  },
  {
   "cell_type": "markdown",
   "id": "6af9aadf",
   "metadata": {},
   "source": [
    "<a name=\"ToC\"></a>\n",
    "# Table of Content\n",
    "\n",
    "- [Notebook Description](#0)\n",
    "- [General Settings](#1)\n",
    "    - [Paths](#1-1)\n",
    "    - [Notebook Functionality and Appearance](#1-2)\n",
    "    - [External Libraries](#1-3)\n",
    "    - [Internal Code](#1-4)\n",
    "    - [Constants](#1-5)   \n",
    "- [Analysis](#2)   \n",
    "    - [Data Reading](#2-1)   \n",
    "    - [Questions](#2-2)\n",
    "        - [Q1 Read the data for January. How many columns are there?](#2-2-1)     \n",
    "        - [Q2 Computing duration](#2-2-2)\n",
    "        - [](#2-2-3)\n",
    "        - [](#2-2-4)\n",
    "        - [](#2-2-5)\n",
    "        - [](#2-2-6)\n",
    "- [Final Timestamp](#3)  "
   ]
  },
  {
   "cell_type": "markdown",
   "id": "2e01f76c",
   "metadata": {},
   "source": [
    "<a name=\"0\"></a>\n",
    "# Notebook Description\n",
    "[ToC](#ToC) "
   ]
  },
  {
   "cell_type": "markdown",
   "id": "b8eb5432",
   "metadata": {},
   "source": [
    "> *Please put your comments about the notebook functionality here.*  "
   ]
  },
  {
   "cell_type": "markdown",
   "id": "65b83422",
   "metadata": {},
   "source": [
    "<a name=\"1\"></a>\n",
    "# GENERAL SETTINGS\n",
    "[ToC](#ToC)  \n",
    "General settings for the notebook (paths, python libraries, own code, notebook constants). \n",
    "\n",
    "> *NOTE: All imports and constants for the notebook settings shoud be here. Nothing should be imported in the analysis section.*"
   ]
  },
  {
   "cell_type": "markdown",
   "id": "f1ccdd19",
   "metadata": {},
   "source": [
    "<a name=\"1-1\"></a>\n",
    "### Paths\n",
    "[ToC](#ToC)  \n",
    "\n",
    "Adding paths that are necessary to import code from within the repository."
   ]
  },
  {
   "cell_type": "code",
   "execution_count": 1,
   "id": "73041f76",
   "metadata": {},
   "outputs": [],
   "source": [
    "import sys\n",
    "import os\n",
    "sys.path+=[os.path.join(os.getcwd(), \"..\"), os.path.join(os.getcwd(), \"../..\")] # one and two up"
   ]
  },
  {
   "cell_type": "markdown",
   "id": "1688c976",
   "metadata": {},
   "source": [
    "<a name=\"1-2\"></a>\n",
    "### Notebook Functionality and Appearance\n",
    "[ToC](#ToC)  \n",
    "Necessary libraries for notebook functionality:\n",
    "- A button for hiding/showing the code. By default it is deactivated and can be activated by setting CREATE_BUTTON constant to True. \n",
    "> **NOTE: This way, using the function, the button works only in active notebook. If the functionality needs to be preserved in html export, then the code has to be incluced directly into notebook.**\n",
    "- Set notebook width to 100%.\n",
    "- Notebook data frame setting for better visibility.\n",
    "- Initial timestamp setting and logging the start of the execution."
   ]
  },
  {
   "cell_type": "markdown",
   "id": "7d63c1ba",
   "metadata": {},
   "source": [
    "#### Overall Setting Specification"
   ]
  },
  {
   "cell_type": "code",
   "execution_count": 2,
   "id": "e5ac5439",
   "metadata": {},
   "outputs": [],
   "source": [
    "LOGGER_CONFIG_NAME = \"logger_file_limit_console\"\n",
    "ADDAPT_WIDTH = True"
   ]
  },
  {
   "cell_type": "markdown",
   "id": "c0c3862c",
   "metadata": {},
   "source": [
    "#### Overall Behaviour Setting"
   ]
  },
  {
   "cell_type": "code",
   "execution_count": 3,
   "id": "b7256dee",
   "metadata": {},
   "outputs": [],
   "source": [
    "try:\n",
    "    from src.utils.notebook_support_functions import create_button, get_notebook_name\n",
    "    NOTEBOOK_NAME = get_notebook_name()\n",
    "    SUPPORT_FUNCTIONS_READ = True\n",
    "except:\n",
    "    NOTEBOOK_NAME = \"NO_NAME\"\n",
    "    SUPPORT_FUNCTIONS_READ = False  "
   ]
  },
  {
   "cell_type": "code",
   "execution_count": 4,
   "id": "e78bbd88",
   "metadata": {},
   "outputs": [],
   "source": [
    "from src.utils.logger import Logger\n",
    "from src.utils.envs import Envs\n",
    "from src.utils.config import Config\n",
    "from pandas import options\n",
    "from IPython.display import display, HTML"
   ]
  },
  {
   "cell_type": "code",
   "execution_count": 5,
   "id": "af52647f",
   "metadata": {},
   "outputs": [
    {
     "name": "stdout",
     "output_type": "stream",
     "text": [
      "2024-05-17 11:02:01,305 - file_limit_console - INFO - Logger was created on WS-3000 in branche 001_do_week_01_hw.\n",
      "2024-05-17 11:02:01,307 - file_limit_console - INFO - Process: NOTEBOOK; Notebook name: W01_HW.ipynb; Timer started;\n"
     ]
    },
    {
     "data": {
      "text/html": [
       "<style>.container { width:100% !important; }</style>"
      ],
      "text/plain": [
       "<IPython.core.display.HTML object>"
      ]
     },
     "metadata": {},
     "output_type": "display_data"
    }
   ],
   "source": [
    "options.display.max_rows = 500\n",
    "options.display.max_columns = 500\n",
    "envs = Envs()\n",
    "envs.set_logger(LOGGER_CONFIG_NAME)\n",
    "Logger().start_timer(f\"NOTEBOOK; Notebook name: {NOTEBOOK_NAME}\")\n",
    "if ADDAPT_WIDTH:\n",
    "    display(HTML(\"<style>.container { width:100% !important; }</style>\")) # notebook width"
   ]
  },
  {
   "cell_type": "code",
   "execution_count": 6,
   "id": "3d86b0eb",
   "metadata": {},
   "outputs": [],
   "source": [
    "# create_button()"
   ]
  },
  {
   "cell_type": "markdown",
   "id": "02907731",
   "metadata": {},
   "source": [
    "<a name=\"1-3\"></a>\n",
    "### External Libraries\n",
    "[ToC](#ToC)  "
   ]
  },
  {
   "cell_type": "code",
   "execution_count": 7,
   "id": "cb1cd798",
   "metadata": {},
   "outputs": [],
   "source": [
    "from datetime import datetime\n",
    "\n",
    "from os.path import join\n",
    "\n",
    "import pandas as pd\n",
    "\n",
    "import pickle\n",
    "\n",
    "import seaborn as sns\n",
    "import matplotlib.pyplot as plt\n",
    "\n",
    "from sklearn.feature_extraction import DictVectorizer\n",
    "from sklearn.linear_model import LinearRegression\n",
    "from sklearn.linear_model import Lasso\n",
    "from sklearn.linear_model import Ridge\n",
    "\n",
    "from sklearn.metrics import mean_squared_error\n",
    "\n",
    "from IPython.display import display, HTML"
   ]
  },
  {
   "cell_type": "markdown",
   "id": "7d484c8e",
   "metadata": {},
   "source": [
    "<a name=\"1-4\"></a>\n",
    "### Internal Code\n",
    "[ToC](#ToC)  \n",
    "Code, libraries, classes, functions from within the repository."
   ]
  },
  {
   "cell_type": "code",
   "execution_count": 8,
   "id": "37454282",
   "metadata": {},
   "outputs": [],
   "source": [
    "from src.utils.date_time_functions import create_datetime_id"
   ]
  },
  {
   "cell_type": "markdown",
   "id": "8c7bc4d7",
   "metadata": {},
   "source": [
    "<a name=\"1-5\"></a>\n",
    "### Constants\n",
    "[ToC](#ToC)  \n",
    "Constants for the notebook.\n",
    "\n",
    "> *NOTE: Please use all letters upper.*"
   ]
  },
  {
   "cell_type": "markdown",
   "id": "60329ad0",
   "metadata": {},
   "source": [
    "#### General Constants\n",
    "[ToC](#ToC)  "
   ]
  },
  {
   "cell_type": "code",
   "execution_count": 9,
   "id": "c1e4d75d",
   "metadata": {},
   "outputs": [],
   "source": [
    "# from src.global_constants import *  # Remember to import only the constants in use\n",
    "N_ROWS_TO_DISPLAY = 2\n",
    "FIGURE_SIZE_SETTING = {\"autosize\": False, \"width\": 2200, \"height\": 750}\n",
    "DATA_PROCESSING_CONFIG_NAME = \"data_processing_basic\""
   ]
  },
  {
   "cell_type": "markdown",
   "id": "3b6fe8e9",
   "metadata": {},
   "source": [
    "#### Constants for Setting Automatic Run\n",
    "[ToC](#ToC)  "
   ]
  },
  {
   "cell_type": "code",
   "execution_count": 10,
   "id": "b1dcdaba",
   "metadata": {
    "tags": [
     "parameters"
    ]
   },
   "outputs": [],
   "source": [
    "# MANDATORY FOR CONFIG DEFINITION AND NOTEBOOK AND ITS OUTPUTS IDENTIFICATION #########################################\n",
    "PYTHON_CONFIG_NAME = \"python_local\"\n",
    "ID = create_datetime_id(now=datetime.now(), add_micro=False)\n",
    "# (END) MANDATORY FOR CONFIG DEFINITION AND NOTEBOOK AND ITS OUTPUTS IDENTIFICATION ###################################"
   ]
  },
  {
   "cell_type": "markdown",
   "id": "c4fe5773",
   "metadata": {},
   "source": [
    "#### Python Config Initialisation\n",
    "[ToC](#ToC)  "
   ]
  },
  {
   "cell_type": "code",
   "execution_count": 11,
   "id": "24433642",
   "metadata": {},
   "outputs": [],
   "source": [
    "envs.set_config(PYTHON_CONFIG_NAME)"
   ]
  },
  {
   "cell_type": "markdown",
   "id": "cb41180b",
   "metadata": {},
   "source": [
    "#### Notebook Specific Constants\n",
    "[ToC](#ToC)  "
   ]
  },
  {
   "cell_type": "code",
   "execution_count": null,
   "id": "c4d3db01",
   "metadata": {},
   "outputs": [],
   "source": []
  },
  {
   "cell_type": "markdown",
   "id": "78e110ee",
   "metadata": {},
   "source": [
    "<a name=\"2\"></a>\n",
    "# ANALYSIS\n",
    "[ToC](#ToC)  "
   ]
  },
  {
   "cell_type": "markdown",
   "id": "0e06dfa1",
   "metadata": {
    "lines_to_next_cell": 2
   },
   "source": [
    "<a name=\"2-1\"></a>\n",
    "## Data Reading\n",
    "[ToC](#ToC)  "
   ]
  },
  {
   "cell_type": "code",
   "execution_count": 12,
   "id": "86c2dced",
   "metadata": {},
   "outputs": [],
   "source": [
    "file_name = \"yellow_tripdata_2023-01.parquet\"\n",
    "df_january = pd.read_parquet(join(Config().get_data().path.external_data, file_name))\n",
    "file_name = \"yellow_tripdata_2023-02.parquet\"\n",
    "df_february = pd.read_parquet(join(Config().get_data().path.external_data, file_name))"
   ]
  },
  {
   "cell_type": "code",
   "execution_count": 13,
   "id": "00f49650",
   "metadata": {},
   "outputs": [
    {
     "data": {
      "text/plain": [
       "(3066766, 19)"
      ]
     },
     "execution_count": 13,
     "metadata": {},
     "output_type": "execute_result"
    }
   ],
   "source": [
    "df_january.shape"
   ]
  },
  {
   "cell_type": "code",
   "execution_count": 14,
   "id": "524c0fdd",
   "metadata": {},
   "outputs": [
    {
     "data": {
      "text/plain": [
       "(3066766, 19)"
      ]
     },
     "execution_count": 14,
     "metadata": {},
     "output_type": "execute_result"
    }
   ],
   "source": [
    "df_january.shape"
   ]
  },
  {
   "cell_type": "code",
   "execution_count": 15,
   "id": "ff2d8907",
   "metadata": {},
   "outputs": [
    {
     "data": {
      "text/html": [
       "<div>\n",
       "<style scoped>\n",
       "    .dataframe tbody tr th:only-of-type {\n",
       "        vertical-align: middle;\n",
       "    }\n",
       "\n",
       "    .dataframe tbody tr th {\n",
       "        vertical-align: top;\n",
       "    }\n",
       "\n",
       "    .dataframe thead th {\n",
       "        text-align: right;\n",
       "    }\n",
       "</style>\n",
       "<table border=\"1\" class=\"dataframe\">\n",
       "  <thead>\n",
       "    <tr style=\"text-align: right;\">\n",
       "      <th></th>\n",
       "      <th>VendorID</th>\n",
       "      <th>tpep_pickup_datetime</th>\n",
       "      <th>tpep_dropoff_datetime</th>\n",
       "      <th>passenger_count</th>\n",
       "      <th>trip_distance</th>\n",
       "      <th>RatecodeID</th>\n",
       "      <th>store_and_fwd_flag</th>\n",
       "      <th>PULocationID</th>\n",
       "      <th>DOLocationID</th>\n",
       "      <th>payment_type</th>\n",
       "      <th>fare_amount</th>\n",
       "      <th>extra</th>\n",
       "      <th>mta_tax</th>\n",
       "      <th>tip_amount</th>\n",
       "      <th>tolls_amount</th>\n",
       "      <th>improvement_surcharge</th>\n",
       "      <th>total_amount</th>\n",
       "      <th>congestion_surcharge</th>\n",
       "      <th>airport_fee</th>\n",
       "    </tr>\n",
       "  </thead>\n",
       "  <tbody>\n",
       "    <tr>\n",
       "      <th>0</th>\n",
       "      <td>2</td>\n",
       "      <td>2023-01-01 00:32:10</td>\n",
       "      <td>2023-01-01 00:40:36</td>\n",
       "      <td>1.0</td>\n",
       "      <td>0.97</td>\n",
       "      <td>1.0</td>\n",
       "      <td>N</td>\n",
       "      <td>161</td>\n",
       "      <td>141</td>\n",
       "      <td>2</td>\n",
       "      <td>9.3</td>\n",
       "      <td>1.00</td>\n",
       "      <td>0.5</td>\n",
       "      <td>0.00</td>\n",
       "      <td>0.0</td>\n",
       "      <td>1.0</td>\n",
       "      <td>14.30</td>\n",
       "      <td>2.5</td>\n",
       "      <td>0.00</td>\n",
       "    </tr>\n",
       "    <tr>\n",
       "      <th>1</th>\n",
       "      <td>2</td>\n",
       "      <td>2023-01-01 00:55:08</td>\n",
       "      <td>2023-01-01 01:01:27</td>\n",
       "      <td>1.0</td>\n",
       "      <td>1.10</td>\n",
       "      <td>1.0</td>\n",
       "      <td>N</td>\n",
       "      <td>43</td>\n",
       "      <td>237</td>\n",
       "      <td>1</td>\n",
       "      <td>7.9</td>\n",
       "      <td>1.00</td>\n",
       "      <td>0.5</td>\n",
       "      <td>4.00</td>\n",
       "      <td>0.0</td>\n",
       "      <td>1.0</td>\n",
       "      <td>16.90</td>\n",
       "      <td>2.5</td>\n",
       "      <td>0.00</td>\n",
       "    </tr>\n",
       "    <tr>\n",
       "      <th>2</th>\n",
       "      <td>2</td>\n",
       "      <td>2023-01-01 00:25:04</td>\n",
       "      <td>2023-01-01 00:37:49</td>\n",
       "      <td>1.0</td>\n",
       "      <td>2.51</td>\n",
       "      <td>1.0</td>\n",
       "      <td>N</td>\n",
       "      <td>48</td>\n",
       "      <td>238</td>\n",
       "      <td>1</td>\n",
       "      <td>14.9</td>\n",
       "      <td>1.00</td>\n",
       "      <td>0.5</td>\n",
       "      <td>15.00</td>\n",
       "      <td>0.0</td>\n",
       "      <td>1.0</td>\n",
       "      <td>34.90</td>\n",
       "      <td>2.5</td>\n",
       "      <td>0.00</td>\n",
       "    </tr>\n",
       "    <tr>\n",
       "      <th>3</th>\n",
       "      <td>1</td>\n",
       "      <td>2023-01-01 00:03:48</td>\n",
       "      <td>2023-01-01 00:13:25</td>\n",
       "      <td>0.0</td>\n",
       "      <td>1.90</td>\n",
       "      <td>1.0</td>\n",
       "      <td>N</td>\n",
       "      <td>138</td>\n",
       "      <td>7</td>\n",
       "      <td>1</td>\n",
       "      <td>12.1</td>\n",
       "      <td>7.25</td>\n",
       "      <td>0.5</td>\n",
       "      <td>0.00</td>\n",
       "      <td>0.0</td>\n",
       "      <td>1.0</td>\n",
       "      <td>20.85</td>\n",
       "      <td>0.0</td>\n",
       "      <td>1.25</td>\n",
       "    </tr>\n",
       "    <tr>\n",
       "      <th>4</th>\n",
       "      <td>2</td>\n",
       "      <td>2023-01-01 00:10:29</td>\n",
       "      <td>2023-01-01 00:21:19</td>\n",
       "      <td>1.0</td>\n",
       "      <td>1.43</td>\n",
       "      <td>1.0</td>\n",
       "      <td>N</td>\n",
       "      <td>107</td>\n",
       "      <td>79</td>\n",
       "      <td>1</td>\n",
       "      <td>11.4</td>\n",
       "      <td>1.00</td>\n",
       "      <td>0.5</td>\n",
       "      <td>3.28</td>\n",
       "      <td>0.0</td>\n",
       "      <td>1.0</td>\n",
       "      <td>19.68</td>\n",
       "      <td>2.5</td>\n",
       "      <td>0.00</td>\n",
       "    </tr>\n",
       "  </tbody>\n",
       "</table>\n",
       "</div>"
      ],
      "text/plain": [
       "   VendorID tpep_pickup_datetime tpep_dropoff_datetime  passenger_count  \\\n",
       "0         2  2023-01-01 00:32:10   2023-01-01 00:40:36              1.0   \n",
       "1         2  2023-01-01 00:55:08   2023-01-01 01:01:27              1.0   \n",
       "2         2  2023-01-01 00:25:04   2023-01-01 00:37:49              1.0   \n",
       "3         1  2023-01-01 00:03:48   2023-01-01 00:13:25              0.0   \n",
       "4         2  2023-01-01 00:10:29   2023-01-01 00:21:19              1.0   \n",
       "\n",
       "   trip_distance  RatecodeID store_and_fwd_flag  PULocationID  DOLocationID  \\\n",
       "0           0.97         1.0                  N           161           141   \n",
       "1           1.10         1.0                  N            43           237   \n",
       "2           2.51         1.0                  N            48           238   \n",
       "3           1.90         1.0                  N           138             7   \n",
       "4           1.43         1.0                  N           107            79   \n",
       "\n",
       "   payment_type  fare_amount  extra  mta_tax  tip_amount  tolls_amount  \\\n",
       "0             2          9.3   1.00      0.5        0.00           0.0   \n",
       "1             1          7.9   1.00      0.5        4.00           0.0   \n",
       "2             1         14.9   1.00      0.5       15.00           0.0   \n",
       "3             1         12.1   7.25      0.5        0.00           0.0   \n",
       "4             1         11.4   1.00      0.5        3.28           0.0   \n",
       "\n",
       "   improvement_surcharge  total_amount  congestion_surcharge  airport_fee  \n",
       "0                    1.0         14.30                   2.5         0.00  \n",
       "1                    1.0         16.90                   2.5         0.00  \n",
       "2                    1.0         34.90                   2.5         0.00  \n",
       "3                    1.0         20.85                   0.0         1.25  \n",
       "4                    1.0         19.68                   2.5         0.00  "
      ]
     },
     "execution_count": 15,
     "metadata": {},
     "output_type": "execute_result"
    }
   ],
   "source": [
    "df_january.head()"
   ]
  },
  {
   "cell_type": "markdown",
   "id": "b60a07ea",
   "metadata": {
    "lines_to_next_cell": 2
   },
   "source": [
    "<a name=\"2-2\"></a>\n",
    "## Questions\n",
    "[ToC](#ToC)  "
   ]
  },
  {
   "cell_type": "markdown",
   "id": "3f2cc588",
   "metadata": {},
   "source": [
    "<a name=\"2-2-1\"></a>\n",
    "### Q1 Read the data for January. How many columns are there?\n",
    "[ToC](#ToC)  "
   ]
  },
  {
   "cell_type": "code",
   "execution_count": 16,
   "id": "07ebe9dc",
   "metadata": {},
   "outputs": [
    {
     "data": {
      "text/html": [
       "<p style='font-weight:bold; background-color:black; color:white; font-size:20px; padding:10px;'>Answer: The number of Columns is: 19</p>"
      ],
      "text/plain": [
       "<IPython.core.display.HTML object>"
      ]
     },
     "metadata": {},
     "output_type": "display_data"
    }
   ],
   "source": [
    "answer = f\"The number of Columns is: {df_january.shape[1]}\"\n",
    "display(HTML(f\"<p style='font-weight:bold; background-color:black; color:white; font-size:20px; padding:10px;'>Answer: {answer}</p>\"))"
   ]
  },
  {
   "cell_type": "markdown",
   "id": "6cc0a182",
   "metadata": {},
   "source": [
    "<a name=\"2-2-2\"></a>\n",
    "### Q2 Computing duration\n",
    "[ToC](#ToC)  \n",
    "\n",
    "Now let's compute the duration variable. It should contain the duration of a ride in minutes.\n",
    "\n",
    "What's the standard deviation of the trips duration in January?"
   ]
  },
  {
   "cell_type": "code",
   "execution_count": 17,
   "id": "a5ae4987",
   "metadata": {},
   "outputs": [],
   "source": [
    "ATTR_DURATION = \"DURATION\""
   ]
  },
  {
   "cell_type": "code",
   "execution_count": 18,
   "id": "f8063a59",
   "metadata": {},
   "outputs": [],
   "source": [
    "def add_duration_attribute(df: pd.DataFrame) -> pd.DataFrame:\n",
    "    \"\"\"\n",
    "    Adds duration attribute to a data frame.\n",
    "    \"\"\"\n",
    "    df[ATTR_DURATION] = df[\"tpep_dropoff_datetime\"] - df[\"tpep_pickup_datetime\"]\n",
    "    df[ATTR_DURATION] = df[ATTR_DURATION].apply(lambda td: td.total_seconds() / 60)\n",
    "    \n",
    "    return df"
   ]
  },
  {
   "cell_type": "code",
   "execution_count": 19,
   "id": "c6bd2e66",
   "metadata": {},
   "outputs": [],
   "source": [
    "df_january = add_duration_attribute(df_january)\n",
    "df_february = add_duration_attribute(df_february)"
   ]
  },
  {
   "cell_type": "code",
   "execution_count": 20,
   "id": "6fcc97a2",
   "metadata": {},
   "outputs": [
    {
     "data": {
      "text/html": [
       "<div>\n",
       "<style scoped>\n",
       "    .dataframe tbody tr th:only-of-type {\n",
       "        vertical-align: middle;\n",
       "    }\n",
       "\n",
       "    .dataframe tbody tr th {\n",
       "        vertical-align: top;\n",
       "    }\n",
       "\n",
       "    .dataframe thead th {\n",
       "        text-align: right;\n",
       "    }\n",
       "</style>\n",
       "<table border=\"1\" class=\"dataframe\">\n",
       "  <thead>\n",
       "    <tr style=\"text-align: right;\">\n",
       "      <th></th>\n",
       "      <th>DURATION</th>\n",
       "    </tr>\n",
       "  </thead>\n",
       "  <tbody>\n",
       "    <tr>\n",
       "      <th>0</th>\n",
       "      <td>8.433333</td>\n",
       "    </tr>\n",
       "    <tr>\n",
       "      <th>1</th>\n",
       "      <td>6.316667</td>\n",
       "    </tr>\n",
       "    <tr>\n",
       "      <th>2</th>\n",
       "      <td>12.750000</td>\n",
       "    </tr>\n",
       "    <tr>\n",
       "      <th>3</th>\n",
       "      <td>9.616667</td>\n",
       "    </tr>\n",
       "    <tr>\n",
       "      <th>4</th>\n",
       "      <td>10.833333</td>\n",
       "    </tr>\n",
       "  </tbody>\n",
       "</table>\n",
       "</div>"
      ],
      "text/plain": [
       "    DURATION\n",
       "0   8.433333\n",
       "1   6.316667\n",
       "2  12.750000\n",
       "3   9.616667\n",
       "4  10.833333"
      ]
     },
     "execution_count": 20,
     "metadata": {},
     "output_type": "execute_result"
    }
   ],
   "source": [
    "df_january[[ATTR_DURATION]].head()"
   ]
  },
  {
   "cell_type": "code",
   "execution_count": 21,
   "id": "6b5e4f1d",
   "metadata": {},
   "outputs": [
    {
     "name": "stdout",
     "output_type": "stream",
     "text": [
      "42.59\n"
     ]
    }
   ],
   "source": [
    "avg_duration = round(df_january[ATTR_DURATION].std(), 2)\n",
    "print(avg_duration)"
   ]
  },
  {
   "cell_type": "code",
   "execution_count": 22,
   "id": "8656a3ec",
   "metadata": {},
   "outputs": [
    {
     "data": {
      "text/html": [
       "<p style='font-weight:bold; background-color:black; color:white; font-size:20px; padding:10px;'>Answer: The standard deviation of the trips duration in January is: 42.59</p>"
      ],
      "text/plain": [
       "<IPython.core.display.HTML object>"
      ]
     },
     "metadata": {},
     "output_type": "display_data"
    }
   ],
   "source": [
    "answer = f\"The standard deviation of the trips duration in January is: {avg_duration}\"\n",
    "display(HTML(f\"<p style='font-weight:bold; background-color:black; color:white; font-size:20px; padding:10px;'>Answer: {answer}</p>\"))"
   ]
  },
  {
   "cell_type": "markdown",
   "id": "4cb44c4e",
   "metadata": {},
   "source": [
    "<a name=\"2-2-3\"></a>\n",
    "### Q3 Dropping outliers\n",
    "[ToC](#ToC)  \n",
    "\n",
    "Next, we need to check the distribution of the duration variable. There are some outliers. Let's remove them and keep only the records where the duration was between 1 and 60 minutes (inclusive).\n",
    "\n",
    "What fraction of the records left after you dropped the outliers?"
   ]
  },
  {
   "cell_type": "code",
   "execution_count": 33,
   "id": "eee9c59a",
   "metadata": {},
   "outputs": [],
   "source": [
    "def remove_outliers(df: pd.DataFrame) -> pd.DataFrame:\n",
    "    \"\"\"\n",
    "    Removes outliers from data frame.\n",
    "    \"\"\"\n",
    "    in_between = [1. <= duration <= 60. for duration in df[ATTR_DURATION]]\n",
    "    \n",
    "    original_size = df.shape[0]\n",
    "    df = df.loc[in_between, ]\n",
    "    \n",
    "    print(f\"DF N of Obs: {original_size}\")\n",
    "    print(f\"N of In Between: {sum(in_between)}\")\n",
    "    print(f\"New df size    : {df.shape[0]}\")\n",
    "    print(f\"Franction: {round(df.shape[0] / original_size, 4)}\")\n",
    "       \n",
    "    return df, original_size  "
   ]
  },
  {
   "cell_type": "code",
   "execution_count": 34,
   "id": "785f6f1a",
   "metadata": {},
   "outputs": [
    {
     "name": "stdout",
     "output_type": "stream",
     "text": [
      "DF N of Obs: 3009173\n",
      "N of In Between: 3009173\n",
      "New df size    : 3009173\n",
      "Franction: 1.0\n",
      "DF N of Obs: 2855951\n",
      "N of In Between: 2855951\n",
      "New df size    : 2855951\n",
      "Franction: 1.0\n"
     ]
    }
   ],
   "source": [
    "df_january, orig_size_january = remove_outliers(df_january)\n",
    "df_february, orig_size_february = remove_outliers(df_february)"
   ]
  },
  {
   "cell_type": "code",
   "execution_count": 30,
   "id": "80769591",
   "metadata": {},
   "outputs": [
    {
     "data": {
      "text/plain": [
       "1.0"
      ]
     },
     "execution_count": 30,
     "metadata": {},
     "output_type": "execute_result"
    }
   ],
   "source": [
    "observations_franction_left = round((df_january.shape[0] + df_february.shape[0]) / (orig_size_january + orig_size_february), 4)\n",
    "observations_franction_left"
   ]
  },
  {
   "cell_type": "code",
   "execution_count": 31,
   "id": "bee44524",
   "metadata": {},
   "outputs": [
    {
     "data": {
      "text/html": [
       "<p style='font-weight:bold; background-color:black; color:white; font-size:20px; padding:10px;'>Answer: The number of observations left is: 100.0 %</p>"
      ],
      "text/plain": [
       "<IPython.core.display.HTML object>"
      ]
     },
     "metadata": {},
     "output_type": "display_data"
    }
   ],
   "source": [
    "answer = f\"The number of observations left is: {observations_franction_left * 100} %\"\n",
    "display(HTML(f\"<p style='font-weight:bold; background-color:black; color:white; font-size:20px; padding:10px;'>Answer: {answer}</p>\"))"
   ]
  },
  {
   "cell_type": "markdown",
   "id": "5b065b29",
   "metadata": {},
   "source": [
    "<a name=\"2-2-4\"></a>\n",
    "### Q4 One-hot encoding\n",
    "[ToC](#ToC)  "
   ]
  },
  {
   "cell_type": "markdown",
   "id": "e1cd55d9",
   "metadata": {},
   "source": [
    "<a name=\"2-2-5\"></a>\n",
    "### Q5 Training a model\n",
    "[ToC](#ToC)  "
   ]
  },
  {
   "cell_type": "markdown",
   "id": "9a365d7b",
   "metadata": {},
   "source": [
    "<a name=\"2-2-6\"></a>\n",
    "### Q6 Evaluating the model\n",
    "[ToC](#ToC)  "
   ]
  },
  {
   "cell_type": "code",
   "execution_count": null,
   "id": "94be112f",
   "metadata": {},
   "outputs": [],
   "source": []
  },
  {
   "cell_type": "code",
   "execution_count": null,
   "id": "6ec37e75",
   "metadata": {},
   "outputs": [],
   "source": []
  },
  {
   "cell_type": "markdown",
   "id": "ce459812",
   "metadata": {},
   "source": [
    "<a name=\"3\"></a>\n",
    "# Final Timestamp\n",
    "[ToC](#ToC)  "
   ]
  },
  {
   "cell_type": "code",
   "execution_count": 27,
   "id": "04847bf4",
   "metadata": {},
   "outputs": [
    {
     "name": "stdout",
     "output_type": "stream",
     "text": [
      "2024-05-17 11:02:12,136 - file_limit_console - INFO - Process: NOTEBOOK; Notebook name: W01_HW.ipynb; Timer ended; Process Duration [s]: 10.83; Process Duration [m]: 0.18\n"
     ]
    }
   ],
   "source": [
    "Logger().end_timer()"
   ]
  }
 ],
 "metadata": {
  "celltoolbar": "Tags",
  "jupytext": {
   "formats": "ipynb,py:light"
  },
  "kernelspec": {
   "display_name": "Python 3 (ipykernel)",
   "language": "python",
   "name": "python3"
  },
  "language_info": {
   "codemirror_mode": {
    "name": "ipython",
    "version": 3
   },
   "file_extension": ".py",
   "mimetype": "text/x-python",
   "name": "python",
   "nbconvert_exporter": "python",
   "pygments_lexer": "ipython3",
   "version": "3.9.7"
  }
 },
 "nbformat": 4,
 "nbformat_minor": 5
}
