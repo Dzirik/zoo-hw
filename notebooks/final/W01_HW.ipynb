{
 "cells": [
  {
   "cell_type": "markdown",
   "id": "59eb4a56",
   "metadata": {},
   "source": [
    "# Zoomcamp MLOps Course Cohort 2024 Week 01 Homework\n",
    "*Version:* `1.2` *(Jupytext, time measurements, logger, param notebook execution, fixes)*"
   ]
  },
  {
   "cell_type": "markdown",
   "id": "6af9aadf",
   "metadata": {},
   "source": [
    "<a name=\"ToC\"></a>\n",
    "# Table of Content\n",
    "\n",
    "- [Notebook Description](#0)\n",
    "- [General Settings](#1)\n",
    "    - [Paths](#1-1)\n",
    "    - [Notebook Functionality and Appearance](#1-2)\n",
    "    - [External Libraries](#1-3)\n",
    "    - [Internal Code](#1-4)\n",
    "    - [Constants](#1-5)   \n",
    "- [Analysis](#2)   \n",
    "    - [Data Reading](#2-1)   \n",
    "    - [Questions](#2-2)\n",
    "        - [Q1 Read the data for January. How many columns are there?](#2-2-1)     \n",
    "        - [Q2 Computing duration](#2-2-2)\n",
    "        - [](#2-2-3)\n",
    "        - [](#2-2-4)\n",
    "        - [](#2-2-5)\n",
    "        - [](#2-2-6)\n",
    "- [Final Timestamp](#3)  "
   ]
  },
  {
   "cell_type": "markdown",
   "id": "2e01f76c",
   "metadata": {},
   "source": [
    "<a name=\"0\"></a>\n",
    "# Notebook Description\n",
    "[ToC](#ToC) "
   ]
  },
  {
   "cell_type": "markdown",
   "id": "b8eb5432",
   "metadata": {},
   "source": [
    "> *Please put your comments about the notebook functionality here.*  "
   ]
  },
  {
   "cell_type": "markdown",
   "id": "65b83422",
   "metadata": {},
   "source": [
    "<a name=\"1\"></a>\n",
    "# GENERAL SETTINGS\n",
    "[ToC](#ToC)  \n",
    "General settings for the notebook (paths, python libraries, own code, notebook constants). \n",
    "\n",
    "> *NOTE: All imports and constants for the notebook settings shoud be here. Nothing should be imported in the analysis section.*"
   ]
  },
  {
   "cell_type": "markdown",
   "id": "f1ccdd19",
   "metadata": {},
   "source": [
    "<a name=\"1-1\"></a>\n",
    "### Paths\n",
    "[ToC](#ToC)  \n",
    "\n",
    "Adding paths that are necessary to import code from within the repository."
   ]
  },
  {
   "cell_type": "code",
   "execution_count": 1,
   "id": "73041f76",
   "metadata": {},
   "outputs": [],
   "source": [
    "import sys\n",
    "import os\n",
    "sys.path+=[os.path.join(os.getcwd(), \"..\"), os.path.join(os.getcwd(), \"../..\")] # one and two up"
   ]
  },
  {
   "cell_type": "markdown",
   "id": "1688c976",
   "metadata": {},
   "source": [
    "<a name=\"1-2\"></a>\n",
    "### Notebook Functionality and Appearance\n",
    "[ToC](#ToC)  \n",
    "Necessary libraries for notebook functionality:\n",
    "- A button for hiding/showing the code. By default it is deactivated and can be activated by setting CREATE_BUTTON constant to True. \n",
    "> **NOTE: This way, using the function, the button works only in active notebook. If the functionality needs to be preserved in html export, then the code has to be incluced directly into notebook.**\n",
    "- Set notebook width to 100%.\n",
    "- Notebook data frame setting for better visibility.\n",
    "- Initial timestamp setting and logging the start of the execution."
   ]
  },
  {
   "cell_type": "markdown",
   "id": "7d63c1ba",
   "metadata": {},
   "source": [
    "#### Overall Setting Specification"
   ]
  },
  {
   "cell_type": "code",
   "execution_count": 2,
   "id": "e5ac5439",
   "metadata": {},
   "outputs": [],
   "source": [
    "LOGGER_CONFIG_NAME = \"logger_file_limit_console\"\n",
    "ADDAPT_WIDTH = True"
   ]
  },
  {
   "cell_type": "markdown",
   "id": "c0c3862c",
   "metadata": {},
   "source": [
    "#### Overall Behaviour Setting"
   ]
  },
  {
   "cell_type": "code",
   "execution_count": 3,
   "id": "b7256dee",
   "metadata": {},
   "outputs": [],
   "source": [
    "try:\n",
    "    from src.utils.notebook_support_functions import create_button, get_notebook_name\n",
    "    NOTEBOOK_NAME = get_notebook_name()\n",
    "    SUPPORT_FUNCTIONS_READ = True\n",
    "except:\n",
    "    NOTEBOOK_NAME = \"NO_NAME\"\n",
    "    SUPPORT_FUNCTIONS_READ = False  "
   ]
  },
  {
   "cell_type": "code",
   "execution_count": null,
   "id": "e78bbd88",
   "metadata": {},
   "outputs": [],
   "source": [
    "from src.utils.logger import Logger\n",
    "from src.utils.envs import Envs\n",
    "from src.utils.config import Config\n",
    "from pandas import options\n",
    "from IPython.display import display, HTML"
   ]
  },
  {
   "cell_type": "code",
   "execution_count": null,
   "id": "af52647f",
   "metadata": {},
   "outputs": [],
   "source": [
    "options.display.max_rows = 500\n",
    "options.display.max_columns = 500\n",
    "envs = Envs()\n",
    "envs.set_logger(LOGGER_CONFIG_NAME)\n",
    "Logger().start_timer(f\"NOTEBOOK; Notebook name: {NOTEBOOK_NAME}\")\n",
    "if ADDAPT_WIDTH:\n",
    "    display(HTML(\"<style>.container { width:100% !important; }</style>\")) # notebook width"
   ]
  },
  {
   "cell_type": "code",
   "execution_count": null,
   "id": "3d86b0eb",
   "metadata": {},
   "outputs": [],
   "source": [
    "# create_button()"
   ]
  },
  {
   "cell_type": "markdown",
   "id": "02907731",
   "metadata": {},
   "source": [
    "<a name=\"1-3\"></a>\n",
    "### External Libraries\n",
    "[ToC](#ToC)  "
   ]
  },
  {
   "cell_type": "code",
   "execution_count": null,
   "id": "cb1cd798",
   "metadata": {},
   "outputs": [],
   "source": [
    "from datetime import datetime\n",
    "\n",
    "from os.path import join\n",
    "\n",
    "import pandas as pd\n",
    "\n",
    "import pickle\n",
    "\n",
    "import seaborn as sns\n",
    "import matplotlib.pyplot as plt\n",
    "\n",
    "from sklearn.feature_extraction import DictVectorizer\n",
    "from sklearn.linear_model import LinearRegression\n",
    "from sklearn.linear_model import Lasso\n",
    "from sklearn.linear_model import Ridge\n",
    "\n",
    "from sklearn.metrics import mean_squared_error\n",
    "\n",
    "from IPython.display import display, HTML"
   ]
  },
  {
   "cell_type": "markdown",
   "id": "7d484c8e",
   "metadata": {},
   "source": [
    "<a name=\"1-4\"></a>\n",
    "### Internal Code\n",
    "[ToC](#ToC)  \n",
    "Code, libraries, classes, functions from within the repository."
   ]
  },
  {
   "cell_type": "code",
   "execution_count": null,
   "id": "37454282",
   "metadata": {},
   "outputs": [],
   "source": [
    "from src.utils.date_time_functions import create_datetime_id"
   ]
  },
  {
   "cell_type": "markdown",
   "id": "8c7bc4d7",
   "metadata": {},
   "source": [
    "<a name=\"1-5\"></a>\n",
    "### Constants\n",
    "[ToC](#ToC)  \n",
    "Constants for the notebook.\n",
    "\n",
    "> *NOTE: Please use all letters upper.*"
   ]
  },
  {
   "cell_type": "markdown",
   "id": "60329ad0",
   "metadata": {},
   "source": [
    "#### General Constants\n",
    "[ToC](#ToC)  "
   ]
  },
  {
   "cell_type": "code",
   "execution_count": null,
   "id": "c1e4d75d",
   "metadata": {},
   "outputs": [],
   "source": [
    "# from src.global_constants import *  # Remember to import only the constants in use\n",
    "N_ROWS_TO_DISPLAY = 2\n",
    "FIGURE_SIZE_SETTING = {\"autosize\": False, \"width\": 2200, \"height\": 750}\n",
    "DATA_PROCESSING_CONFIG_NAME = \"data_processing_basic\""
   ]
  },
  {
   "cell_type": "markdown",
   "id": "3b6fe8e9",
   "metadata": {},
   "source": [
    "#### Constants for Setting Automatic Run\n",
    "[ToC](#ToC)  "
   ]
  },
  {
   "cell_type": "code",
   "execution_count": null,
   "id": "b1dcdaba",
   "metadata": {
    "tags": [
     "parameters"
    ]
   },
   "outputs": [],
   "source": [
    "# MANDATORY FOR CONFIG DEFINITION AND NOTEBOOK AND ITS OUTPUTS IDENTIFICATION #########################################\n",
    "PYTHON_CONFIG_NAME = \"python_local\"\n",
    "ID = create_datetime_id(now=datetime.now(), add_micro=False)\n",
    "# (END) MANDATORY FOR CONFIG DEFINITION AND NOTEBOOK AND ITS OUTPUTS IDENTIFICATION ###################################"
   ]
  },
  {
   "cell_type": "markdown",
   "id": "c4fe5773",
   "metadata": {},
   "source": [
    "#### Python Config Initialisation\n",
    "[ToC](#ToC)  "
   ]
  },
  {
   "cell_type": "code",
   "execution_count": null,
   "id": "24433642",
   "metadata": {},
   "outputs": [],
   "source": [
    "envs.set_config(PYTHON_CONFIG_NAME)"
   ]
  },
  {
   "cell_type": "markdown",
   "id": "cb41180b",
   "metadata": {},
   "source": [
    "#### Notebook Specific Constants\n",
    "[ToC](#ToC)  "
   ]
  },
  {
   "cell_type": "code",
   "execution_count": null,
   "id": "c4d3db01",
   "metadata": {},
   "outputs": [],
   "source": []
  },
  {
   "cell_type": "markdown",
   "id": "78e110ee",
   "metadata": {},
   "source": [
    "<a name=\"2\"></a>\n",
    "# ANALYSIS\n",
    "[ToC](#ToC)  "
   ]
  },
  {
   "cell_type": "code",
   "execution_count": null,
   "id": "a13a2e5b",
   "metadata": {},
   "outputs": [],
   "source": [
    "def print_info_about_data_frame(df: pd.DataFrame) -> None:\n",
    "    \"\"\"\n",
    "    Print overall df stats.\n",
    "    :param df: DataFrame. Data to have its stats printed.\n",
    "    \"\"\"\n",
    "    print(f\"DataFrame type: {str(type(df))}\")\n",
    "    print(f\"DataFrame shape: {str(df.shape)}\")\n",
    "    print(f\"DataFrame dtypes: {df.dtypes.apply(lambda x: x.name).to_dict()}\")\n",
    "    print(\"\\n\")\n",
    "    print(f\"DataFrame head:\\n{df.head()}\")\n",
    "    print(\"\\n\")\n",
    "    print(f\"DataFrame description:\\n{df.describe()}\")\n",
    "    print(\"\\n\")"
   ]
  },
  {
   "cell_type": "markdown",
   "id": "0e06dfa1",
   "metadata": {
    "lines_to_next_cell": 2
   },
   "source": [
    "<a name=\"2-1\"></a>\n",
    "## Data Reading\n",
    "[ToC](#ToC)  "
   ]
  },
  {
   "cell_type": "code",
   "execution_count": null,
   "id": "b0595030",
   "metadata": {},
   "outputs": [],
   "source": [
    "file_name = \"yellow_tripdata_2023-01.parquet\"\n",
    "df_january = pd.read_parquet(join(Config().get_data().path.external_data, file_name))\n",
    "file_name = \"yellow_tripdata_2023-02.parquet\"\n",
    "df_february = pd.read_parquet(join(Config().get_data().path.external_data, file_name))"
   ]
  },
  {
   "cell_type": "code",
   "execution_count": null,
   "id": "3c5b991b",
   "metadata": {},
   "outputs": [],
   "source": [
    "df_january.shape"
   ]
  },
  {
   "cell_type": "code",
   "execution_count": null,
   "id": "ea2c45b9",
   "metadata": {},
   "outputs": [],
   "source": [
    "df_january.shape"
   ]
  },
  {
   "cell_type": "code",
   "execution_count": null,
   "id": "fca6ab26",
   "metadata": {},
   "outputs": [],
   "source": [
    "df_january.head()"
   ]
  },
  {
   "cell_type": "markdown",
   "id": "b60a07ea",
   "metadata": {
    "lines_to_next_cell": 2
   },
   "source": [
    "<a name=\"2-2\"></a>\n",
    "## Questions\n",
    "[ToC](#ToC)  "
   ]
  },
  {
   "cell_type": "markdown",
   "id": "58936006",
   "metadata": {},
   "source": [
    "<a name=\"2-2-1\"></a>\n",
    "### Q1 Read the data for January. How many columns are there?\n",
    "[ToC](#ToC)  \n",
    "\n",
    "We'll use the same [NYC taxi dataset](https://www.nyc.gov/site/tlc/about/tlc-trip-record-data.page), but instead of \"Green Taxi Trip Records\", we'll use \"Yellow Taxi Trip Records\".\n",
    "\n",
    "Download the data for January and February 2023.\n",
    "\n",
    "Read the data for January. How many columns are there?\n",
    "\n",
    "16  \n",
    "17  \n",
    "18  \n",
    "19  "
   ]
  },
  {
   "cell_type": "code",
   "execution_count": null,
   "id": "a9a3991a",
   "metadata": {},
   "outputs": [],
   "source": [
    "answer = f\"The number of Columns is: {df_january.shape[1]}\"\n",
    "display(HTML(f\"<p style='font-weight:bold; background-color:black; color:white; font-size:20px; padding:10px;'>Answer: {answer}</p>\"))"
   ]
  },
  {
   "cell_type": "markdown",
   "id": "4b5a077b",
   "metadata": {},
   "source": [
    "<a name=\"2-2-2\"></a>\n",
    "### Q2 Computing duration\n",
    "[ToC](#ToC)  \n",
    "\n",
    "Now let's compute the duration variable. It should contain the duration of a ride in minutes.\n",
    "\n",
    "What's the standard deviation of the trips duration in January?\n",
    "\n",
    "32.59  \n",
    "42.59  \n",
    "52.59  \n",
    "62.59  "
   ]
  },
  {
   "cell_type": "code",
   "execution_count": null,
   "id": "e0b1d4cc",
   "metadata": {},
   "outputs": [],
   "source": [
    "ATTR_DURATION = \"DURATION\""
   ]
  },
  {
   "cell_type": "code",
   "execution_count": null,
   "id": "5e978fe3",
   "metadata": {},
   "outputs": [],
   "source": [
    "def add_duration_attribute(df: pd.DataFrame) -> pd.DataFrame:\n",
    "    \"\"\"\n",
    "    Adds duration attribute to a data frame.\n",
    "    \"\"\"\n",
    "    df[ATTR_DURATION] = df[\"tpep_dropoff_datetime\"] - df[\"tpep_pickup_datetime\"]\n",
    "    df[ATTR_DURATION] = df[ATTR_DURATION].apply(lambda td: td.total_seconds() / 60)\n",
    "    \n",
    "    return df"
   ]
  },
  {
   "cell_type": "code",
   "execution_count": null,
   "id": "5c8eb36e",
   "metadata": {},
   "outputs": [],
   "source": [
    "df_january = add_duration_attribute(df_january)\n",
    "df_february = add_duration_attribute(df_february)"
   ]
  },
  {
   "cell_type": "code",
   "execution_count": null,
   "id": "0d53791c",
   "metadata": {},
   "outputs": [],
   "source": [
    "df_january[[ATTR_DURATION]].head()"
   ]
  },
  {
   "cell_type": "code",
   "execution_count": null,
   "id": "60840a0f",
   "metadata": {},
   "outputs": [],
   "source": [
    "avg_duration = round(df_january[ATTR_DURATION].std(), 2)\n",
    "print(avg_duration)"
   ]
  },
  {
   "cell_type": "code",
   "execution_count": null,
   "id": "066d9115",
   "metadata": {},
   "outputs": [],
   "source": [
    "answer = f\"The standard deviation of the trips duration in January is: {avg_duration}\"\n",
    "display(HTML(f\"<p style='font-weight:bold; background-color:black; color:white; font-size:20px; padding:10px;'>Answer: {answer}</p>\"))"
   ]
  },
  {
   "cell_type": "markdown",
   "id": "03423cda",
   "metadata": {},
   "source": [
    "<a name=\"2-2-3\"></a>\n",
    "### Q3 Dropping outliers\n",
    "[ToC](#ToC)  \n",
    "\n",
    "Next, we need to check the distribution of the duration variable. There are some outliers. Let's remove them and keep only the records where the duration was between 1 and 60 minutes (inclusive).\n",
    "\n",
    "What fraction of the records left after you dropped the outliers?\n",
    "\n",
    "90%  \n",
    "92%  \n",
    "95%  \n",
    "98%  "
   ]
  },
  {
   "cell_type": "code",
   "execution_count": null,
   "id": "a3105730",
   "metadata": {},
   "outputs": [],
   "source": [
    "def remove_outliers(df: pd.DataFrame) -> pd.DataFrame:\n",
    "    \"\"\"\n",
    "    Removes outliers from data frame.\n",
    "    \"\"\"\n",
    "    in_between = [1. <= duration <= 60. for duration in df[ATTR_DURATION]]\n",
    "    \n",
    "    original_size = df.shape[0]\n",
    "    df = df.loc[in_between, ]\n",
    "    \n",
    "    print(f\"DF N of Obs: {original_size}\")\n",
    "    print(f\"N of In Between: {sum(in_between)}\")\n",
    "    print(f\"New df size    : {df.shape[0]}\")\n",
    "    print(f\"Franction: {round(df.shape[0] / original_size, 4)}\")\n",
    "       \n",
    "    return df, original_size  "
   ]
  },
  {
   "cell_type": "code",
   "execution_count": null,
   "id": "f69060e3",
   "metadata": {},
   "outputs": [],
   "source": [
    "df_january, orig_size_january = remove_outliers(df_january)\n",
    "df_february, orig_size_february = remove_outliers(df_february)"
   ]
  },
  {
   "cell_type": "code",
   "execution_count": null,
   "id": "d983914f",
   "metadata": {},
   "outputs": [],
   "source": [
    "observations_franction_left = round((df_january.shape[0] + df_february.shape[0]) / (orig_size_january + orig_size_february), 4)\n",
    "observations_franction_left"
   ]
  },
  {
   "cell_type": "code",
   "execution_count": null,
   "id": "04ca0ce8",
   "metadata": {},
   "outputs": [],
   "source": [
    "answer = f\"The number of observations left is: {round(observations_franction_left * 100, 2)} %\"\n",
    "display(HTML(f\"<p style='font-weight:bold; background-color:black; color:white; font-size:20px; padding:10px;'>Answer: {answer}</p>\"))"
   ]
  },
  {
   "cell_type": "markdown",
   "id": "d11f2ff3",
   "metadata": {},
   "source": [
    "<a name=\"2-2-4\"></a>\n",
    "### Q4 One-hot encoding\n",
    "[ToC](#ToC)  \n",
    "\n",
    "Let's apply one-hot encoding to the pickup and dropoff location IDs. We'll use only these two features for our model.\n",
    "\n",
    "- Turn the dataframe into a list of dictionaries (remember to re-cast the ids to strings - otherwise it will label encode them)\n",
    "- Fit a dictionary vectorizer\n",
    "- Get a feature matrix from it\n",
    "\n",
    "What's the dimensionality of this matrix (number of columns)?\n",
    "\n",
    "2  \n",
    "155  \n",
    "345  \n",
    "515  \n",
    "715  "
   ]
  },
  {
   "cell_type": "code",
   "execution_count": null,
   "id": "350fd80e",
   "metadata": {},
   "outputs": [],
   "source": [
    "ATTR_PU_LOC_ID = \"PULocationID\"\n",
    "ATTR_DO_LOC_ID = \"DOLocationID\"\n",
    "\n",
    "ATTRS_FOR_OH = [ATTR_PU_LOC_ID, ATTR_DO_LOC_ID]"
   ]
  },
  {
   "cell_type": "code",
   "execution_count": null,
   "id": "c3556d98",
   "metadata": {},
   "outputs": [],
   "source": [
    "df = df_january.copy()"
   ]
  },
  {
   "cell_type": "code",
   "execution_count": null,
   "id": "b054294d",
   "metadata": {},
   "outputs": [],
   "source": [
    "def do_oh_encoding(df: pd.DataFrame) -> pd.DataFrame:\n",
    "    \"\"\"\n",
    "    Does OH encoding using feature vectorizer.\n",
    "    \"\"\"\n",
    "    df = df[ATTRS_FOR_OH].astype(str)\n",
    "    d = df[ATTRS_FOR_OH].to_dict(orient=\"records\")\n",
    "    \n",
    "    dv = DictVectorizer()\n",
    "    X = dv.fit_transform(d)\n",
    "    \n",
    "    return X, dv"
   ]
  },
  {
   "cell_type": "code",
   "execution_count": null,
   "id": "326615bf",
   "metadata": {},
   "outputs": [],
   "source": [
    "print(f\"Januray N of OH Features:{do_oh_encoding(df_january)[0].shape[1]}\")\n",
    "print(f\"February N of OH Features:{do_oh_encoding(df_february)[0].shape[1]}\")\n",
    "print(f\"Both N of OH Features:{do_oh_encoding(pd.concat((df_january, df_february)))[0].shape[1]}\")"
   ]
  },
  {
   "cell_type": "code",
   "execution_count": null,
   "id": "173e509b",
   "metadata": {},
   "outputs": [],
   "source": [
    "X, vectorizer = do_oh_encoding(df_january)\n",
    "\n",
    "answer = f\"The number of columns for January is: {X.shape[1]}\"\n",
    "display(HTML(f\"<p style='font-weight:bold; background-color:black; color:white; font-size:20px; padding:10px;'>Answer: {answer}</p>\"))"
   ]
  },
  {
   "cell_type": "markdown",
   "id": "e7d0c186",
   "metadata": {},
   "source": [
    "<a name=\"2-2-5\"></a>\n",
    "### Q5 Training a model\n",
    "[ToC](#ToC)  \n",
    "\n",
    "Now let's use the feature matrix from the previous step to train a model.\n",
    "\n",
    "- Train a plain linear regression model with default parameters\n",
    "- Calculate the RMSE of the model on the training data\n",
    "\n",
    "What's the RMSE on train?\n",
    "\n",
    "3.64  \n",
    "7.64  \n",
    "11.64  \n",
    "16.64  "
   ]
  },
  {
   "cell_type": "code",
   "execution_count": null,
   "id": "24c0c5b7",
   "metadata": {},
   "outputs": [],
   "source": [
    "Y_train = df_january[ATTR_DURATION].to_numpy()\n",
    "X_train = X"
   ]
  },
  {
   "cell_type": "code",
   "execution_count": null,
   "id": "1a0aca3a",
   "metadata": {},
   "outputs": [],
   "source": [
    "print(Y_train.shape)\n",
    "print(X_train.shape)"
   ]
  },
  {
   "cell_type": "code",
   "execution_count": null,
   "id": "6d5a590a",
   "metadata": {},
   "outputs": [],
   "source": [
    "lr_model = LinearRegression()\n",
    "lr_model.fit(X_train, Y_train)\n",
    "\n",
    "y_hat = lr_model.predict(X_train)"
   ]
  },
  {
   "cell_type": "code",
   "execution_count": null,
   "id": "61b65c07",
   "metadata": {},
   "outputs": [],
   "source": [
    "error = round(mean_squared_error(Y_train, y_hat, squared=False), 4)\n",
    "error"
   ]
  },
  {
   "cell_type": "code",
   "execution_count": null,
   "id": "b5326146",
   "metadata": {},
   "outputs": [],
   "source": [
    "answer = f\"The RMSE error for the train data is: {error}\"\n",
    "display(HTML(f\"<p style='font-weight:bold; background-color:black; color:white; font-size:20px; padding:10px;'>Answer: {answer}</p>\"))"
   ]
  },
  {
   "cell_type": "markdown",
   "id": "39e93ab0",
   "metadata": {},
   "source": [
    "<a name=\"2-2-6\"></a>\n",
    "### Q6 Evaluating the model\n",
    "[ToC](#ToC) \n",
    "\n",
    "Now let's apply this model to the validation dataset (February 2023).\n",
    "\n",
    "What's the RMSE on validation?\n",
    "\n",
    "3.81  \n",
    "7.81  \n",
    "11.81  \n",
    "16.81  "
   ]
  },
  {
   "cell_type": "code",
   "execution_count": null,
   "id": "ad77e17d",
   "metadata": {},
   "outputs": [],
   "source": [
    "Y_dev = df_february[ATTR_DURATION].to_numpy()\n",
    "\n",
    "df = df_february[ATTRS_FOR_OH].copy()\n",
    "df = df[ATTRS_FOR_OH].astype(str)\n",
    "d = df[ATTRS_FOR_OH].to_dict(orient=\"records\")\n",
    "X_dev = vectorizer.transform(d)"
   ]
  },
  {
   "cell_type": "code",
   "execution_count": null,
   "id": "9fa2806b",
   "metadata": {},
   "outputs": [],
   "source": [
    "print(Y_dev.shape)\n",
    "print(X_dev.shape)"
   ]
  },
  {
   "cell_type": "code",
   "execution_count": null,
   "id": "e99d82bf",
   "metadata": {},
   "outputs": [],
   "source": [
    "y_hat = lr_model.predict(X_dev)"
   ]
  },
  {
   "cell_type": "code",
   "execution_count": null,
   "id": "18cf233b",
   "metadata": {},
   "outputs": [],
   "source": [
    "error = round(mean_squared_error(Y_dev, y_hat, squared=False), 4)\n",
    "error"
   ]
  },
  {
   "cell_type": "code",
   "execution_count": null,
   "id": "ab6fc145",
   "metadata": {},
   "outputs": [],
   "source": [
    "answer = f\"The RMSE error for the dev data is: {error}\"\n",
    "display(HTML(f\"<p style='font-weight:bold; background-color:black; color:white; font-size:20px; padding:10px;'>Answer: {answer}</p>\"))"
   ]
  },
  {
   "cell_type": "markdown",
   "id": "ce459812",
   "metadata": {},
   "source": [
    "<a name=\"3\"></a>\n",
    "# Final Timestamp\n",
    "[ToC](#ToC)  "
   ]
  },
  {
   "cell_type": "code",
   "execution_count": null,
   "id": "04847bf4",
   "metadata": {},
   "outputs": [],
   "source": [
    "Logger().end_timer()"
   ]
  }
 ],
 "metadata": {
  "celltoolbar": "Tags",
  "jupytext": {
   "formats": "ipynb,py:light"
  },
  "kernelspec": {
   "display_name": "Python 3 (ipykernel)",
   "language": "python",
   "name": "python3"
  },
  "language_info": {
   "codemirror_mode": {
    "name": "ipython",
    "version": 3
   },
   "file_extension": ".py",
   "mimetype": "text/x-python",
   "name": "python",
   "nbconvert_exporter": "python",
   "pygments_lexer": "ipython3",
   "version": "3.9.7"
  }
 },
 "nbformat": 4,
 "nbformat_minor": 5
}
