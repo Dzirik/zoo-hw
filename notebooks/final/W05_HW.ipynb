{
 "cells": [
  {
   "cell_type": "markdown",
   "id": "59eb4a56",
   "metadata": {},
   "source": [
    "# Zoomcamp MLOps Course Cohort 2024 Week 05 Homework\n",
    "*Version:* `1.2` *(Jupytext, time measurements, logger, param notebook execution, fixes)*"
   ]
  },
  {
   "cell_type": "markdown",
   "id": "6af9aadf",
   "metadata": {},
   "source": [
    "<a name=\"ToC\"></a>\n",
    "# Table of Content\n",
    "\n",
    "- [Notebook Description](#0)\n",
    "- [General Settings](#1)\n",
    "    - [Paths](#1-1)\n",
    "    - [Notebook Functionality and Appearance](#1-2)\n",
    "    - [External Libraries](#1-3)\n",
    "    - [Internal Code](#1-4)\n",
    "    - [Constants](#1-5)   \n",
    "- [Analysis](#2)   \n",
    "    - [Data Reading](#2-1)   \n",
    "    - [Questions](#2-2)\n",
    "        - [Q1 Prepare the dataset](#2-2-1)     \n",
    "        - [Q2 Metric](#2-2-2)\n",
    "        - [Q3 Monitoring](#2-2-3)\n",
    "        - [Q4 Dashboard](#2-2-4)    \n",
    "- [Final Timestamp](#3)  "
   ]
  },
  {
   "cell_type": "markdown",
   "id": "2e01f76c",
   "metadata": {},
   "source": [
    "<a name=\"0\"></a>\n",
    "# Notebook Description\n",
    "[ToC](#ToC) "
   ]
  },
  {
   "cell_type": "markdown",
   "id": "b8eb5432",
   "metadata": {},
   "source": [
    "> *Please put your comments about the notebook functionality here.*  "
   ]
  },
  {
   "cell_type": "markdown",
   "id": "65b83422",
   "metadata": {},
   "source": [
    "<a name=\"1\"></a>\n",
    "# GENERAL SETTINGS\n",
    "[ToC](#ToC)  \n",
    "General settings for the notebook (paths, python libraries, own code, notebook constants). \n",
    "\n",
    "> *NOTE: All imports and constants for the notebook settings shoud be here. Nothing should be imported in the analysis section.*"
   ]
  },
  {
   "cell_type": "markdown",
   "id": "f1ccdd19",
   "metadata": {},
   "source": [
    "<a name=\"1-1\"></a>\n",
    "### Paths\n",
    "[ToC](#ToC)  \n",
    "\n",
    "Adding paths that are necessary to import code from within the repository."
   ]
  },
  {
   "cell_type": "code",
   "execution_count": 1,
   "id": "73041f76",
   "metadata": {},
   "outputs": [],
   "source": [
    "import sys\n",
    "import os\n",
    "sys.path+=[os.path.join(os.getcwd(), \"..\"), os.path.join(os.getcwd(), \"../..\")] # one and two up"
   ]
  },
  {
   "cell_type": "markdown",
   "id": "1688c976",
   "metadata": {},
   "source": [
    "<a name=\"1-2\"></a>\n",
    "### Notebook Functionality and Appearance\n",
    "[ToC](#ToC)  \n",
    "Necessary libraries for notebook functionality:\n",
    "- A button for hiding/showing the code. By default it is deactivated and can be activated by setting CREATE_BUTTON constant to True. \n",
    "> **NOTE: This way, using the function, the button works only in active notebook. If the functionality needs to be preserved in html export, then the code has to be incluced directly into notebook.**\n",
    "- Set notebook width to 100%.\n",
    "- Notebook data frame setting for better visibility.\n",
    "- Initial timestamp setting and logging the start of the execution."
   ]
  },
  {
   "cell_type": "markdown",
   "id": "7d63c1ba",
   "metadata": {},
   "source": [
    "#### Overall Setting Specification"
   ]
  },
  {
   "cell_type": "code",
   "execution_count": 2,
   "id": "e5ac5439",
   "metadata": {},
   "outputs": [],
   "source": [
    "LOGGER_CONFIG_NAME = \"logger_file_limit_console\"\n",
    "ADDAPT_WIDTH = False"
   ]
  },
  {
   "cell_type": "markdown",
   "id": "c0c3862c",
   "metadata": {},
   "source": [
    "#### Overall Behaviour Setting"
   ]
  },
  {
   "cell_type": "code",
   "execution_count": 3,
   "id": "b7256dee",
   "metadata": {},
   "outputs": [],
   "source": [
    "try:\n",
    "    from src.utils.notebook_support_functions import create_button, get_notebook_name\n",
    "    NOTEBOOK_NAME = get_notebook_name()\n",
    "    SUPPORT_FUNCTIONS_READ = True\n",
    "except:\n",
    "    NOTEBOOK_NAME = \"NO_NAME\"\n",
    "    SUPPORT_FUNCTIONS_READ = False  "
   ]
  },
  {
   "cell_type": "code",
   "execution_count": 4,
   "id": "e78bbd88",
   "metadata": {},
   "outputs": [],
   "source": [
    "from src.utils.logger import Logger\n",
    "from src.utils.envs import Envs\n",
    "from src.utils.config import Config\n",
    "from pandas import options\n",
    "from IPython.display import display, HTML"
   ]
  },
  {
   "cell_type": "code",
   "execution_count": 5,
   "id": "af52647f",
   "metadata": {},
   "outputs": [
    {
     "name": "stdout",
     "output_type": "stream",
     "text": [
      "2024-06-21 11:20:25,779 - file_limit_console - INFO - Logger was created on WS-3000 in branche 005_do_week_05_hw.\n",
      "2024-06-21 11:20:25,781 - file_limit_console - INFO - Process: NOTEBOOK; Notebook name: W05_HW.ipynb; Timer started;\n"
     ]
    }
   ],
   "source": [
    "options.display.max_rows = 500\n",
    "options.display.max_columns = 500\n",
    "envs = Envs()\n",
    "envs.set_logger(LOGGER_CONFIG_NAME)\n",
    "Logger().start_timer(f\"NOTEBOOK; Notebook name: {NOTEBOOK_NAME}\")\n",
    "if ADDAPT_WIDTH:\n",
    "    display(HTML(\"<style>.container { width:100% !important; }</style>\")) # notebook width"
   ]
  },
  {
   "cell_type": "code",
   "execution_count": 6,
   "id": "3d86b0eb",
   "metadata": {},
   "outputs": [],
   "source": [
    "# create_button()"
   ]
  },
  {
   "cell_type": "markdown",
   "id": "02907731",
   "metadata": {},
   "source": [
    "<a name=\"1-3\"></a>\n",
    "### External Libraries\n",
    "[ToC](#ToC)  "
   ]
  },
  {
   "cell_type": "code",
   "execution_count": 7,
   "id": "cb1cd798",
   "metadata": {},
   "outputs": [],
   "source": [
    "from datetime import datetime\n",
    "\n",
    "from datetime import datetime\n",
    "\n",
    "from os.path import join\n",
    "\n",
    "import pandas as pd\n",
    "\n",
    "import pickle\n",
    "\n",
    "import seaborn as sns\n",
    "import matplotlib.pyplot as plt\n",
    "\n",
    "from sklearn.feature_extraction import DictVectorizer\n",
    "from sklearn.linear_model import LinearRegression\n",
    "from sklearn.linear_model import Lasso\n",
    "from sklearn.linear_model import Ridge\n",
    "\n",
    "from sklearn.metrics import mean_squared_error\n",
    "\n",
    "from IPython.display import display, HTML"
   ]
  },
  {
   "cell_type": "markdown",
   "id": "7d484c8e",
   "metadata": {},
   "source": [
    "<a name=\"1-4\"></a>\n",
    "### Internal Code\n",
    "[ToC](#ToC)  \n",
    "Code, libraries, classes, functions from within the repository."
   ]
  },
  {
   "cell_type": "code",
   "execution_count": 8,
   "id": "37454282",
   "metadata": {},
   "outputs": [],
   "source": [
    "from src.utils.date_time_functions import create_datetime_id"
   ]
  },
  {
   "cell_type": "markdown",
   "id": "8c7bc4d7",
   "metadata": {},
   "source": [
    "<a name=\"1-5\"></a>\n",
    "### Constants\n",
    "[ToC](#ToC)  \n",
    "Constants for the notebook.\n",
    "\n",
    "> *NOTE: Please use all letters upper.*"
   ]
  },
  {
   "cell_type": "markdown",
   "id": "60329ad0",
   "metadata": {},
   "source": [
    "#### General Constants\n",
    "[ToC](#ToC)  "
   ]
  },
  {
   "cell_type": "code",
   "execution_count": 9,
   "id": "c1e4d75d",
   "metadata": {},
   "outputs": [],
   "source": [
    "# from src.global_constants import *  # Remember to import only the constants in use\n",
    "N_ROWS_TO_DISPLAY = 2\n",
    "FIGURE_SIZE_SETTING = {\"autosize\": False, \"width\": 2200, \"height\": 750}\n",
    "DATA_PROCESSING_CONFIG_NAME = \"data_processing_basic\""
   ]
  },
  {
   "cell_type": "markdown",
   "id": "3b6fe8e9",
   "metadata": {},
   "source": [
    "#### Constants for Setting Automatic Run\n",
    "[ToC](#ToC)  "
   ]
  },
  {
   "cell_type": "code",
   "execution_count": 10,
   "id": "b1dcdaba",
   "metadata": {
    "tags": [
     "parameters"
    ]
   },
   "outputs": [],
   "source": [
    "# MANDATORY FOR CONFIG DEFINITION AND NOTEBOOK AND ITS OUTPUTS IDENTIFICATION #########################################\n",
    "PYTHON_CONFIG_NAME = \"python_local\"\n",
    "ID = create_datetime_id(now=datetime.now(), add_micro=False)\n",
    "# (END) MANDATORY FOR CONFIG DEFINITION AND NOTEBOOK AND ITS OUTPUTS IDENTIFICATION ###################################"
   ]
  },
  {
   "cell_type": "markdown",
   "id": "c4fe5773",
   "metadata": {},
   "source": [
    "#### Python Config Initialisation\n",
    "[ToC](#ToC)  "
   ]
  },
  {
   "cell_type": "code",
   "execution_count": 11,
   "id": "24433642",
   "metadata": {},
   "outputs": [],
   "source": [
    "envs.set_config(PYTHON_CONFIG_NAME)"
   ]
  },
  {
   "cell_type": "markdown",
   "id": "cb41180b",
   "metadata": {},
   "source": [
    "#### Notebook Specific Constants\n",
    "[ToC](#ToC)  "
   ]
  },
  {
   "cell_type": "code",
   "execution_count": null,
   "id": "c4d3db01",
   "metadata": {},
   "outputs": [],
   "source": []
  },
  {
   "cell_type": "markdown",
   "id": "78e110ee",
   "metadata": {},
   "source": [
    "<a name=\"2\"></a>\n",
    "# ANALYSIS\n",
    "[ToC](#ToC)  "
   ]
  },
  {
   "cell_type": "markdown",
   "id": "0e06dfa1",
   "metadata": {
    "lines_to_next_cell": 2
   },
   "source": [
    "<a name=\"2-1\"></a>\n",
    "## Chapter\n",
    "[ToC](#ToC)  "
   ]
  },
  {
   "cell_type": "markdown",
   "id": "b60a07ea",
   "metadata": {
    "lines_to_next_cell": 2
   },
   "source": [
    "<a name=\"2-1\"></a>\n",
    "## Data Reading\n",
    "[ToC](#ToC)  "
   ]
  },
  {
   "cell_type": "code",
   "execution_count": 14,
   "id": "a7cd9f35",
   "metadata": {},
   "outputs": [],
   "source": [
    "file_name = \"green_tripdata_2024-03.parquet\"\n",
    "df = pd.read_parquet(join(Config().get_data().path.external_data, file_name))"
   ]
  },
  {
   "cell_type": "markdown",
   "id": "fa123767",
   "metadata": {},
   "source": [
    "<a name=\"2-2\"></a>\n",
    "## Questions\n",
    "[ToC](#ToC)  "
   ]
  },
  {
   "cell_type": "markdown",
   "id": "e48d692e",
   "metadata": {},
   "source": [
    "<a name=\"2-2-1\"></a>\n",
    "### Q1 Prepare the dataset\n",
    "[ToC](#ToC)  \n",
    "\n",
    "Start with baseline_model_nyc_taxi_data.ipynb. Download the March 2024 Green Taxi data. We will use this data to simulate a production usage of a taxi trip duration prediction service.\n",
    "\n",
    "What is the shape of the downloaded data? How many rows are there?\n",
    "\n",
    "72044  \n",
    "78537  \n",
    "57457  \n",
    "54396  "
   ]
  },
  {
   "cell_type": "code",
   "execution_count": 15,
   "id": "22301f9e",
   "metadata": {},
   "outputs": [
    {
     "data": {
      "text/plain": [
       "57457"
      ]
     },
     "execution_count": 15,
     "metadata": {},
     "output_type": "execute_result"
    }
   ],
   "source": [
    "df.shape[0]"
   ]
  },
  {
   "cell_type": "code",
   "execution_count": null,
   "id": "1144f3ef",
   "metadata": {},
   "outputs": [],
   "source": [
    "answer = f\"The number of rows in the data frame is: {df.shape[0]}\"\n",
    "display(HTML(f\"<p style='font-weight:bold; background-color:black; color:white; font-size:20px; padding:10px;'>Answer: {answer}</p>\"))"
   ]
  },
  {
   "cell_type": "markdown",
   "id": "24849a8c",
   "metadata": {},
   "source": [
    "<a name=\"2-2-2\"></a>\n",
    "### Q2 Metric\n",
    "[ToC](#ToC)  \n",
    "\n",
    "Let's expand the number of data quality metrics we’d like to monitor! Please add one metric of your choice and a quantile value for the \"fare_amount\" column (quantile=0.5).\n",
    "\n",
    "Hint: explore evidently metric ColumnQuantileMetric (from evidently.metrics import ColumnQuantileMetric)\n",
    "\n",
    "What metric did you choose?"
   ]
  },
  {
   "cell_type": "markdown",
   "id": "17882db9",
   "metadata": {},
   "source": [
    "<a name=\"2-2-3\"></a>\n",
    "### Q3 Monitoring\n",
    "[ToC](#ToC)  \n",
    "\n",
    "Let’s start monitoring. Run expanded monitoring for a new batch of data (March 2024).\n",
    "\n",
    "What is the maximum value of metric quantile = 0.5 on the \"fare_amount\" column during March 2024 (calculated daily)?\n",
    "\n",
    "10  \n",
    "12.5  \n",
    "14.2  \n",
    "14.8  "
   ]
  },
  {
   "cell_type": "markdown",
   "id": "a075cc0a",
   "metadata": {},
   "source": [
    "<a name=\"2-2-4\"></a>\n",
    "### Q4 Dashboard\n",
    "[ToC](#ToC)  \n",
    "\n",
    "Finally, let’s add panels with new added metrics to the dashboard. After we customize the dashboard let's save a dashboard config, so that we can access it later. Hint: click on “Save dashboard” to access JSON configuration of the dashboard. This configuration should be saved locally.\n",
    "\n",
    "Where to place a dashboard config file?\n",
    "\n",
    "project_folder (05-monitoring)  \n",
    "project_folder/config (05-monitoring/config)  \n",
    "project_folder/dashboards (05-monitoring/dashboards)  \n",
    "project_folder/data (05-monitoring/data)  "
   ]
  },
  {
   "cell_type": "markdown",
   "id": "ce459812",
   "metadata": {},
   "source": [
    "<a name=\"3\"></a>\n",
    "# Final Timestamp\n",
    "[ToC](#ToC)  "
   ]
  },
  {
   "cell_type": "code",
   "execution_count": 13,
   "id": "04847bf4",
   "metadata": {},
   "outputs": [
    {
     "name": "stdout",
     "output_type": "stream",
     "text": [
      "2024-06-21 11:20:26,923 - file_limit_console - INFO - Process: NOTEBOOK; Notebook name: W05_HW.ipynb; Timer ended; Process Duration [s]: 1.14; Process Duration [m]: 0.02\n"
     ]
    }
   ],
   "source": [
    "Logger().end_timer()"
   ]
  }
 ],
 "metadata": {
  "celltoolbar": "Tags",
  "jupytext": {
   "formats": "ipynb,py:light"
  },
  "kernelspec": {
   "display_name": "Python 3 (ipykernel)",
   "language": "python",
   "name": "python3"
  },
  "language_info": {
   "codemirror_mode": {
    "name": "ipython",
    "version": 3
   },
   "file_extension": ".py",
   "mimetype": "text/x-python",
   "name": "python",
   "nbconvert_exporter": "python",
   "pygments_lexer": "ipython3",
   "version": "3.9.7"
  }
 },
 "nbformat": 4,
 "nbformat_minor": 5
}
