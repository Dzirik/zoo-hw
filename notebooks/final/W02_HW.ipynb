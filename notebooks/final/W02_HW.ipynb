{
 "cells": [
  {
   "cell_type": "markdown",
   "id": "59eb4a56",
   "metadata": {},
   "source": [
    "# Zoomcamp MLOps Course Cohort 2024 Week 02 Homework\n",
    "*Version:* `1.2` *(Jupytext, time measurements, logger, param notebook execution, fixes)*"
   ]
  },
  {
   "cell_type": "markdown",
   "id": "6af9aadf",
   "metadata": {},
   "source": [
    "<a name=\"ToC\"></a>\n",
    "# Table of Content\n",
    "\n",
    "- [Notebook Description](#0)\n",
    "- [General Settings](#1)\n",
    "    - [Paths](#1-1)\n",
    "    - [Notebook Functionality and Appearance](#1-2)\n",
    "    - [External Libraries](#1-3)\n",
    "    - [Internal Code](#1-4)\n",
    "    - [Constants](#1-5)   \n",
    "- [Analysis](#2)   \n",
    "    - [Data Reading](#2-1)   \n",
    "    - [Questions](#2-2)\n",
    "        - [Q1 Install MLflow](#2-2-1)     \n",
    "        - [Q2 ](#2-2-2)\n",
    "        - [Q3 ](#2-2-3)\n",
    "        - [Q4 ](#2-2-4)\n",
    "        - [Q5 ](#2-2-5)\n",
    "        - [Q6 ](#2-2-6)\n",
    "- [Final Timestamp](#3)  "
   ]
  },
  {
   "cell_type": "markdown",
   "id": "2e01f76c",
   "metadata": {},
   "source": [
    "<a name=\"0\"></a>\n",
    "# Notebook Description\n",
    "[ToC](#ToC) "
   ]
  },
  {
   "cell_type": "markdown",
   "id": "b8eb5432",
   "metadata": {},
   "source": [
    "> *Please put your comments about the notebook functionality here.*  "
   ]
  },
  {
   "cell_type": "markdown",
   "id": "65b83422",
   "metadata": {},
   "source": [
    "<a name=\"1\"></a>\n",
    "# GENERAL SETTINGS\n",
    "[ToC](#ToC)  \n",
    "General settings for the notebook (paths, python libraries, own code, notebook constants). \n",
    "\n",
    "> *NOTE: All imports and constants for the notebook settings shoud be here. Nothing should be imported in the analysis section.*"
   ]
  },
  {
   "cell_type": "markdown",
   "id": "f1ccdd19",
   "metadata": {},
   "source": [
    "<a name=\"1-1\"></a>\n",
    "### Paths\n",
    "[ToC](#ToC)  \n",
    "\n",
    "Adding paths that are necessary to import code from within the repository."
   ]
  },
  {
   "cell_type": "code",
   "execution_count": 1,
   "id": "73041f76",
   "metadata": {},
   "outputs": [],
   "source": [
    "import sys\n",
    "import os\n",
    "sys.path+=[os.path.join(os.getcwd(), \"..\"), os.path.join(os.getcwd(), \"../..\")] # one and two up"
   ]
  },
  {
   "cell_type": "markdown",
   "id": "1688c976",
   "metadata": {},
   "source": [
    "<a name=\"1-2\"></a>\n",
    "### Notebook Functionality and Appearance\n",
    "[ToC](#ToC)  \n",
    "Necessary libraries for notebook functionality:\n",
    "- A button for hiding/showing the code. By default it is deactivated and can be activated by setting CREATE_BUTTON constant to True. \n",
    "> **NOTE: This way, using the function, the button works only in active notebook. If the functionality needs to be preserved in html export, then the code has to be incluced directly into notebook.**\n",
    "- Set notebook width to 100%.\n",
    "- Notebook data frame setting for better visibility.\n",
    "- Initial timestamp setting and logging the start of the execution."
   ]
  },
  {
   "cell_type": "markdown",
   "id": "7d63c1ba",
   "metadata": {},
   "source": [
    "#### Overall Setting Specification"
   ]
  },
  {
   "cell_type": "code",
   "execution_count": 2,
   "id": "e5ac5439",
   "metadata": {},
   "outputs": [],
   "source": [
    "LOGGER_CONFIG_NAME = \"logger_file_limit_console\"\n",
    "ADDAPT_WIDTH = False"
   ]
  },
  {
   "cell_type": "markdown",
   "id": "c0c3862c",
   "metadata": {},
   "source": [
    "#### Overall Behaviour Setting"
   ]
  },
  {
   "cell_type": "code",
   "execution_count": 3,
   "id": "b7256dee",
   "metadata": {},
   "outputs": [],
   "source": [
    "try:\n",
    "    from src.utils.notebook_support_functions import create_button, get_notebook_name\n",
    "    NOTEBOOK_NAME = get_notebook_name()\n",
    "    SUPPORT_FUNCTIONS_READ = True\n",
    "except:\n",
    "    NOTEBOOK_NAME = \"NO_NAME\"\n",
    "    SUPPORT_FUNCTIONS_READ = False  "
   ]
  },
  {
   "cell_type": "code",
   "execution_count": 4,
   "id": "e78bbd88",
   "metadata": {},
   "outputs": [],
   "source": [
    "from src.utils.logger import Logger\n",
    "from src.utils.envs import Envs\n",
    "from src.utils.config import Config\n",
    "from pandas import options\n",
    "from IPython.display import display, HTML"
   ]
  },
  {
   "cell_type": "code",
   "execution_count": 5,
   "id": "af52647f",
   "metadata": {},
   "outputs": [
    {
     "name": "stdout",
     "output_type": "stream",
     "text": [
      "2023-12-09 15:33:53,756 - file_limit_console - INFO - Logger was created on WS-3000 in branche 014_update_repository.\n",
      "2023-12-09 15:33:53,758 - file_limit_console - INFO - Process: NOTEBOOK; Notebook name: template_notebook_final.py; Timer started;\n"
     ]
    }
   ],
   "source": [
    "options.display.max_rows = 500\n",
    "options.display.max_columns = 500\n",
    "envs = Envs()\n",
    "envs.set_logger(LOGGER_CONFIG_NAME)\n",
    "Logger().start_timer(f\"NOTEBOOK; Notebook name: {NOTEBOOK_NAME}\")\n",
    "if ADDAPT_WIDTH:\n",
    "    display(HTML(\"<style>.container { width:100% !important; }</style>\")) # notebook width"
   ]
  },
  {
   "cell_type": "code",
   "execution_count": 6,
   "id": "3d86b0eb",
   "metadata": {},
   "outputs": [],
   "source": [
    "# create_button()"
   ]
  },
  {
   "cell_type": "markdown",
   "id": "02907731",
   "metadata": {},
   "source": [
    "<a name=\"1-3\"></a>\n",
    "### External Libraries\n",
    "[ToC](#ToC)  "
   ]
  },
  {
   "cell_type": "code",
   "execution_count": 3,
   "id": "cb1cd798",
   "metadata": {},
   "outputs": [],
   "source": [
    "from datetime import datetime\n",
    "\n",
    "import mlflow\n",
    "\n",
    "from IPython.display import display, HTML"
   ]
  },
  {
   "cell_type": "markdown",
   "id": "7d484c8e",
   "metadata": {},
   "source": [
    "<a name=\"1-4\"></a>\n",
    "### Internal Code\n",
    "[ToC](#ToC)  \n",
    "Code, libraries, classes, functions from within the repository."
   ]
  },
  {
   "cell_type": "code",
   "execution_count": 8,
   "id": "37454282",
   "metadata": {},
   "outputs": [],
   "source": [
    "from src.utils.date_time_functions import create_datetime_id"
   ]
  },
  {
   "cell_type": "markdown",
   "id": "8c7bc4d7",
   "metadata": {},
   "source": [
    "<a name=\"1-5\"></a>\n",
    "### Constants\n",
    "[ToC](#ToC)  \n",
    "Constants for the notebook.\n",
    "\n",
    "> *NOTE: Please use all letters upper.*"
   ]
  },
  {
   "cell_type": "markdown",
   "id": "60329ad0",
   "metadata": {},
   "source": [
    "#### General Constants\n",
    "[ToC](#ToC)  "
   ]
  },
  {
   "cell_type": "code",
   "execution_count": 9,
   "id": "c1e4d75d",
   "metadata": {},
   "outputs": [],
   "source": [
    "# from src.global_constants import *  # Remember to import only the constants in use\n",
    "N_ROWS_TO_DISPLAY = 2\n",
    "FIGURE_SIZE_SETTING = {\"autosize\": False, \"width\": 2200, \"height\": 750}\n",
    "DATA_PROCESSING_CONFIG_NAME = \"data_processing_basic\""
   ]
  },
  {
   "cell_type": "markdown",
   "id": "3b6fe8e9",
   "metadata": {},
   "source": [
    "#### Constants for Setting Automatic Run\n",
    "[ToC](#ToC)  "
   ]
  },
  {
   "cell_type": "code",
   "execution_count": 10,
   "id": "b1dcdaba",
   "metadata": {
    "tags": [
     "parameters"
    ]
   },
   "outputs": [],
   "source": [
    "# MANDATORY FOR CONFIG DEFINITION AND NOTEBOOK AND ITS OUTPUTS IDENTIFICATION #########################################\n",
    "PYTHON_CONFIG_NAME = \"python_local\"\n",
    "ID = create_datetime_id(now=datetime.now(), add_micro=False)\n",
    "# (END) MANDATORY FOR CONFIG DEFINITION AND NOTEBOOK AND ITS OUTPUTS IDENTIFICATION ###################################"
   ]
  },
  {
   "cell_type": "markdown",
   "id": "c4fe5773",
   "metadata": {},
   "source": [
    "#### Python Config Initialisation\n",
    "[ToC](#ToC)  "
   ]
  },
  {
   "cell_type": "code",
   "execution_count": 11,
   "id": "24433642",
   "metadata": {},
   "outputs": [],
   "source": [
    "envs.set_config(PYTHON_CONFIG_NAME)"
   ]
  },
  {
   "cell_type": "markdown",
   "id": "cb41180b",
   "metadata": {},
   "source": [
    "#### Notebook Specific Constants\n",
    "[ToC](#ToC)  "
   ]
  },
  {
   "cell_type": "code",
   "execution_count": null,
   "id": "c4d3db01",
   "metadata": {},
   "outputs": [],
   "source": []
  },
  {
   "cell_type": "markdown",
   "id": "78e110ee",
   "metadata": {},
   "source": [
    "<a name=\"2\"></a>\n",
    "# ANALYSIS\n",
    "[ToC](#ToC)  "
   ]
  },
  {
   "cell_type": "markdown",
   "id": "0e06dfa1",
   "metadata": {
    "lines_to_next_cell": 2
   },
   "source": [
    "<a name=\"2-1\"></a>\n",
    "## Data Reading\n",
    "[ToC](#ToC)  "
   ]
  },
  {
   "cell_type": "code",
   "execution_count": 13,
   "id": "d4391d04",
   "metadata": {},
   "outputs": [
    {
     "name": "stdout",
     "output_type": "stream",
     "text": [
      "2023-12-09 15:33:53,931 - file_limit_console - INFO - Process: NOTEBOOK; Notebook name: template_notebook_final.py; Timer meantime; Meantime of: Chapter one; Duration [s]: 0.17; Duration [m]: 0.0\n"
     ]
    }
   ],
   "source": [
    "Logger().set_meantime(\"Chapter one\")"
   ]
  },
  {
   "cell_type": "markdown",
   "id": "b60a07ea",
   "metadata": {
    "lines_to_next_cell": 2
   },
   "source": [
    "<a name=\"2-2\"></a>\n",
    "## Questions\n",
    "[ToC](#ToC)  "
   ]
  },
  {
   "cell_type": "markdown",
   "id": "a6702879",
   "metadata": {},
   "source": [
    "<a name=\"2-2-1\"></a>\n",
    "### Q1 Install MLflow\n",
    "[ToC](#ToC)  \n",
    "\n",
    "To get started with MLflow you'll need to install the MLflow Python package.\n",
    "\n",
    "For this we recommend creating a separate Python environment, for example, you can use conda environments, and then install the package there with pip or conda.\n",
    "\n",
    "Once you installed the package, run the command mlflow --version and check the output.\n",
    "\n",
    "What's the version that you have?'"
   ]
  },
  {
   "cell_type": "code",
   "execution_count": 4,
   "id": "43a795c2",
   "metadata": {},
   "outputs": [
    {
     "data": {
      "text/html": [
       "<p style='font-weight:bold; background-color:black; color:white; font-size:20px; padding:10px;'>Answer: Installed Version of MLFlow is: 2.12.2</p>"
      ],
      "text/plain": [
       "<IPython.core.display.HTML object>"
      ]
     },
     "metadata": {},
     "output_type": "display_data"
    }
   ],
   "source": [
    "answer = f\"Installed Version of MLFlow is: {mlflow.__version__}\"\n",
    "display(HTML(f\"<p style='font-weight:bold; background-color:black; color:white; font-size:20px; padding:10px;'>Answer: {answer}</p>\"))"
   ]
  },
  {
   "cell_type": "markdown",
   "id": "7bf3ff6c",
   "metadata": {},
   "source": [
    "<a name=\"2-2-2\"></a>\n",
    "### Q2 \n",
    "[ToC](#ToC)  \n",
    "\n",
    "We'll use the [Green Taxi Trip Records](https://www.nyc.gov/site/tlc/about/tlc-trip-record-data.page) dataset to predict the duration of each trip.\n",
    "\n",
    "Download the data for January, February and March 2023 in parquet format from here.\n",
    "\n",
    "Use the script preprocess_data.py located in the folder homework to preprocess the data.\n",
    "\n",
    "The script will:\n",
    "\n",
    "load the data from the folder <TAXI_DATA_FOLDER> (the folder where you have downloaded the data),\n",
    "fit a DictVectorizer on the training set (January 2023 data),\n",
    "save the preprocessed datasets and the DictVectorizer to disk.\n",
    "Your task is to download the datasets and then execute this command:\n",
    "\n",
    "python preprocess_data.py --raw_data_path <TAXI_DATA_FOLDER> --dest_path ./output\n",
    "Tip: go to 02-experiment-tracking/homework/ folder before executing the command and change the value of <TAXI_DATA_FOLDER> to the location where you saved the data.\n",
    "\n",
    "How many files were saved to OUTPUT_FOLDER?\n",
    "\n",
    "1  \n",
    "3  \n",
    "4  \n",
    "7  "
   ]
  },
  {
   "cell_type": "markdown",
   "id": "c9ebe687",
   "metadata": {},
   "source": [
    "<a name=\"2-2-3\"></a>\n",
    "### Q3 \n",
    "[ToC](#ToC)  "
   ]
  },
  {
   "cell_type": "markdown",
   "id": "113065d8",
   "metadata": {},
   "source": [
    "<a name=\"2-2-4\"></a>\n",
    "### Q4 \n",
    "[ToC](#ToC)  "
   ]
  },
  {
   "cell_type": "markdown",
   "id": "9bbb91e5",
   "metadata": {},
   "source": [
    "<a name=\"2-2-5\"></a>\n",
    "### Q5 \n",
    "[ToC](#ToC)  "
   ]
  },
  {
   "cell_type": "markdown",
   "id": "f8481e7d",
   "metadata": {},
   "source": [
    "<a name=\"2-2-6\"></a>\n",
    "### Q6 \n",
    "[ToC](#ToC)  "
   ]
  },
  {
   "cell_type": "markdown",
   "id": "ce459812",
   "metadata": {},
   "source": [
    "<a name=\"3\"></a>\n",
    "# Final Timestamp\n",
    "[ToC](#ToC)  "
   ]
  },
  {
   "cell_type": "code",
   "execution_count": 14,
   "id": "04847bf4",
   "metadata": {},
   "outputs": [
    {
     "name": "stdout",
     "output_type": "stream",
     "text": [
      "2023-12-09 15:33:53,946 - file_limit_console - INFO - Process: NOTEBOOK; Notebook name: template_notebook_final.py; Timer ended; Process Duration [s]: 0.19; Process Duration [m]: 0.0\n"
     ]
    }
   ],
   "source": [
    "Logger().end_timer()"
   ]
  }
 ],
 "metadata": {
  "celltoolbar": "Tags",
  "jupytext": {
   "formats": "ipynb,py:light"
  },
  "kernelspec": {
   "display_name": "Python 3 (ipykernel)",
   "language": "python",
   "name": "python3"
  },
  "language_info": {
   "codemirror_mode": {
    "name": "ipython",
    "version": 3
   },
   "file_extension": ".py",
   "mimetype": "text/x-python",
   "name": "python",
   "nbconvert_exporter": "python",
   "pygments_lexer": "ipython3",
   "version": "3.9.7"
  }
 },
 "nbformat": 4,
 "nbformat_minor": 5
}
